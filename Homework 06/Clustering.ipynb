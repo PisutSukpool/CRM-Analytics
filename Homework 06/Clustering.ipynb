{
  "nbformat": 4,
  "nbformat_minor": 0,
  "metadata": {
    "colab": {
      "name": "Clustering.ipynb",
      "provenance": [],
      "collapsed_sections": []
    },
    "kernelspec": {
      "name": "python3",
      "display_name": "Python 3"
    }
  },
  "cells": [
    {
      "cell_type": "code",
      "metadata": {
        "id": "jmNihptfYWLR",
        "colab": {
          "base_uri": "https://localhost:8080/"
        },
        "outputId": "039c83cd-d8ab-4a9d-d4f1-c08af443fd84"
      },
      "source": [
        "from google.colab import auth\n",
        "auth.authenticate_user()\n",
        "print('Authenticated')"
      ],
      "execution_count": 3,
      "outputs": [
        {
          "output_type": "stream",
          "text": [
            "Authenticated\n"
          ],
          "name": "stdout"
        }
      ]
    },
    {
      "cell_type": "code",
      "metadata": {
        "id": "ltLxE5bXuSWX",
        "outputId": "56c0f3c5-e6dc-40ee-aeae-a3c42ee0f1dd",
        "colab": {
          "base_uri": "https://localhost:8080/",
          "height": 457
        }
      },
      "source": [
        "from google.cloud import bigquery\n",
        "\n",
        "client = bigquery.Client(project='bads-7105-308315')\n",
        "\n",
        "df = client.query('''\n",
        "SELECT * FROM `bads-7105-308315.supermarket.transaction`\n",
        "WHERE CUST_CODE IS NOT NULL \n",
        "''').to_dataframe()\n",
        "\n",
        "df"
      ],
      "execution_count": 11,
      "outputs": [
        {
          "output_type": "stream",
          "text": [
            "WARNING:google.auth._default:No project ID could be determined. Consider running `gcloud config set project` or setting the GOOGLE_CLOUD_PROJECT environment variable\n"
          ],
          "name": "stderr"
        },
        {
          "output_type": "execute_result",
          "data": {
            "text/html": [
              "<div>\n",
              "<style scoped>\n",
              "    .dataframe tbody tr th:only-of-type {\n",
              "        vertical-align: middle;\n",
              "    }\n",
              "\n",
              "    .dataframe tbody tr th {\n",
              "        vertical-align: top;\n",
              "    }\n",
              "\n",
              "    .dataframe thead th {\n",
              "        text-align: right;\n",
              "    }\n",
              "</style>\n",
              "<table border=\"1\" class=\"dataframe\">\n",
              "  <thead>\n",
              "    <tr style=\"text-align: right;\">\n",
              "      <th></th>\n",
              "      <th>SHOP_WEEK</th>\n",
              "      <th>SHOP_DATE</th>\n",
              "      <th>SHOP_WEEKDAY</th>\n",
              "      <th>SHOP_HOUR</th>\n",
              "      <th>QUANTITY</th>\n",
              "      <th>SPEND</th>\n",
              "      <th>PROD_CODE</th>\n",
              "      <th>PROD_CODE_10</th>\n",
              "      <th>PROD_CODE_20</th>\n",
              "      <th>PROD_CODE_30</th>\n",
              "      <th>PROD_CODE_40</th>\n",
              "      <th>CUST_CODE</th>\n",
              "      <th>CUST_PRICE_SENSITIVITY</th>\n",
              "      <th>CUST_LIFESTAGE</th>\n",
              "      <th>BASKET_ID</th>\n",
              "      <th>BASKET_SIZE</th>\n",
              "      <th>BASKET_PRICE_SENSITIVITY</th>\n",
              "      <th>BASKET_TYPE</th>\n",
              "      <th>BASKET_DOMINANT_MISSION</th>\n",
              "      <th>STORE_CODE</th>\n",
              "      <th>STORE_FORMAT</th>\n",
              "      <th>STORE_REGION</th>\n",
              "    </tr>\n",
              "  </thead>\n",
              "  <tbody>\n",
              "    <tr>\n",
              "      <th>0</th>\n",
              "      <td>200732</td>\n",
              "      <td>20071005</td>\n",
              "      <td>6</td>\n",
              "      <td>17</td>\n",
              "      <td>3</td>\n",
              "      <td>6.75</td>\n",
              "      <td>PRD0900001</td>\n",
              "      <td>CL00072</td>\n",
              "      <td>DEP00021</td>\n",
              "      <td>G00007</td>\n",
              "      <td>D00002</td>\n",
              "      <td>CUST0000583261</td>\n",
              "      <td>UM</td>\n",
              "      <td>YF</td>\n",
              "      <td>994107800547472</td>\n",
              "      <td>L</td>\n",
              "      <td>MM</td>\n",
              "      <td>Top Up</td>\n",
              "      <td>Grocery</td>\n",
              "      <td>STORE00001</td>\n",
              "      <td>LS</td>\n",
              "      <td>E02</td>\n",
              "    </tr>\n",
              "    <tr>\n",
              "      <th>1</th>\n",
              "      <td>200733</td>\n",
              "      <td>20071010</td>\n",
              "      <td>4</td>\n",
              "      <td>20</td>\n",
              "      <td>3</td>\n",
              "      <td>6.75</td>\n",
              "      <td>PRD0900001</td>\n",
              "      <td>CL00072</td>\n",
              "      <td>DEP00021</td>\n",
              "      <td>G00007</td>\n",
              "      <td>D00002</td>\n",
              "      <td>CUST0000537317</td>\n",
              "      <td>MM</td>\n",
              "      <td>OF</td>\n",
              "      <td>994107900512001</td>\n",
              "      <td>L</td>\n",
              "      <td>MM</td>\n",
              "      <td>Full Shop</td>\n",
              "      <td>Fresh</td>\n",
              "      <td>STORE00001</td>\n",
              "      <td>LS</td>\n",
              "      <td>E02</td>\n",
              "    </tr>\n",
              "    <tr>\n",
              "      <th>2</th>\n",
              "      <td>200741</td>\n",
              "      <td>20071209</td>\n",
              "      <td>1</td>\n",
              "      <td>11</td>\n",
              "      <td>1</td>\n",
              "      <td>2.25</td>\n",
              "      <td>PRD0900001</td>\n",
              "      <td>CL00072</td>\n",
              "      <td>DEP00021</td>\n",
              "      <td>G00007</td>\n",
              "      <td>D00002</td>\n",
              "      <td>CUST0000472158</td>\n",
              "      <td>MM</td>\n",
              "      <td>YF</td>\n",
              "      <td>994108700468327</td>\n",
              "      <td>L</td>\n",
              "      <td>MM</td>\n",
              "      <td>Full Shop</td>\n",
              "      <td>Grocery</td>\n",
              "      <td>STORE00001</td>\n",
              "      <td>LS</td>\n",
              "      <td>E02</td>\n",
              "    </tr>\n",
              "    <tr>\n",
              "      <th>3</th>\n",
              "      <td>200731</td>\n",
              "      <td>20070929</td>\n",
              "      <td>7</td>\n",
              "      <td>17</td>\n",
              "      <td>1</td>\n",
              "      <td>2.25</td>\n",
              "      <td>PRD0900001</td>\n",
              "      <td>CL00072</td>\n",
              "      <td>DEP00021</td>\n",
              "      <td>G00007</td>\n",
              "      <td>D00002</td>\n",
              "      <td>CUST0000099658</td>\n",
              "      <td>LA</td>\n",
              "      <td>OF</td>\n",
              "      <td>994107700237811</td>\n",
              "      <td>L</td>\n",
              "      <td>LA</td>\n",
              "      <td>Full Shop</td>\n",
              "      <td>Mixed</td>\n",
              "      <td>STORE00001</td>\n",
              "      <td>LS</td>\n",
              "      <td>E02</td>\n",
              "    </tr>\n",
              "    <tr>\n",
              "      <th>4</th>\n",
              "      <td>200746</td>\n",
              "      <td>20080108</td>\n",
              "      <td>3</td>\n",
              "      <td>15</td>\n",
              "      <td>1</td>\n",
              "      <td>2.25</td>\n",
              "      <td>PRD0900001</td>\n",
              "      <td>CL00072</td>\n",
              "      <td>DEP00021</td>\n",
              "      <td>G00007</td>\n",
              "      <td>D00002</td>\n",
              "      <td>CUST0000556927</td>\n",
              "      <td>MM</td>\n",
              "      <td>None</td>\n",
              "      <td>994109200504187</td>\n",
              "      <td>L</td>\n",
              "      <td>MM</td>\n",
              "      <td>Top Up</td>\n",
              "      <td>Fresh</td>\n",
              "      <td>STORE00001</td>\n",
              "      <td>LS</td>\n",
              "      <td>E02</td>\n",
              "    </tr>\n",
              "    <tr>\n",
              "      <th>...</th>\n",
              "      <td>...</td>\n",
              "      <td>...</td>\n",
              "      <td>...</td>\n",
              "      <td>...</td>\n",
              "      <td>...</td>\n",
              "      <td>...</td>\n",
              "      <td>...</td>\n",
              "      <td>...</td>\n",
              "      <td>...</td>\n",
              "      <td>...</td>\n",
              "      <td>...</td>\n",
              "      <td>...</td>\n",
              "      <td>...</td>\n",
              "      <td>...</td>\n",
              "      <td>...</td>\n",
              "      <td>...</td>\n",
              "      <td>...</td>\n",
              "      <td>...</td>\n",
              "      <td>...</td>\n",
              "      <td>...</td>\n",
              "      <td>...</td>\n",
              "      <td>...</td>\n",
              "    </tr>\n",
              "    <tr>\n",
              "      <th>802887</th>\n",
              "      <td>200633</td>\n",
              "      <td>20061009</td>\n",
              "      <td>2</td>\n",
              "      <td>12</td>\n",
              "      <td>3</td>\n",
              "      <td>3.96</td>\n",
              "      <td>PRD0904997</td>\n",
              "      <td>CL00074</td>\n",
              "      <td>DEP00021</td>\n",
              "      <td>G00007</td>\n",
              "      <td>D00002</td>\n",
              "      <td>CUST0000689580</td>\n",
              "      <td>LA</td>\n",
              "      <td>OT</td>\n",
              "      <td>994102700591584</td>\n",
              "      <td>L</td>\n",
              "      <td>LA</td>\n",
              "      <td>Full Shop</td>\n",
              "      <td>Mixed</td>\n",
              "      <td>STORE00002</td>\n",
              "      <td>LS</td>\n",
              "      <td>W01</td>\n",
              "    </tr>\n",
              "    <tr>\n",
              "      <th>802888</th>\n",
              "      <td>200634</td>\n",
              "      <td>20061022</td>\n",
              "      <td>1</td>\n",
              "      <td>16</td>\n",
              "      <td>3</td>\n",
              "      <td>3.96</td>\n",
              "      <td>PRD0904997</td>\n",
              "      <td>CL00074</td>\n",
              "      <td>DEP00021</td>\n",
              "      <td>G00007</td>\n",
              "      <td>D00002</td>\n",
              "      <td>CUST0000910590</td>\n",
              "      <td>LA</td>\n",
              "      <td>OA</td>\n",
              "      <td>994102800730797</td>\n",
              "      <td>L</td>\n",
              "      <td>LA</td>\n",
              "      <td>Top Up</td>\n",
              "      <td>Grocery</td>\n",
              "      <td>STORE00002</td>\n",
              "      <td>LS</td>\n",
              "      <td>W01</td>\n",
              "    </tr>\n",
              "    <tr>\n",
              "      <th>802889</th>\n",
              "      <td>200618</td>\n",
              "      <td>20060701</td>\n",
              "      <td>7</td>\n",
              "      <td>12</td>\n",
              "      <td>3</td>\n",
              "      <td>3.96</td>\n",
              "      <td>PRD0904997</td>\n",
              "      <td>CL00074</td>\n",
              "      <td>DEP00021</td>\n",
              "      <td>G00007</td>\n",
              "      <td>D00002</td>\n",
              "      <td>CUST0000956717</td>\n",
              "      <td>LA</td>\n",
              "      <td>OA</td>\n",
              "      <td>994101200777910</td>\n",
              "      <td>L</td>\n",
              "      <td>LA</td>\n",
              "      <td>Top Up</td>\n",
              "      <td>Fresh</td>\n",
              "      <td>STORE00002</td>\n",
              "      <td>LS</td>\n",
              "      <td>W01</td>\n",
              "    </tr>\n",
              "    <tr>\n",
              "      <th>802890</th>\n",
              "      <td>200617</td>\n",
              "      <td>20060622</td>\n",
              "      <td>5</td>\n",
              "      <td>18</td>\n",
              "      <td>3</td>\n",
              "      <td>3.96</td>\n",
              "      <td>PRD0904997</td>\n",
              "      <td>CL00074</td>\n",
              "      <td>DEP00021</td>\n",
              "      <td>G00007</td>\n",
              "      <td>D00002</td>\n",
              "      <td>CUST0000544241</td>\n",
              "      <td>LA</td>\n",
              "      <td>YA</td>\n",
              "      <td>994101100506174</td>\n",
              "      <td>L</td>\n",
              "      <td>LA</td>\n",
              "      <td>Top Up</td>\n",
              "      <td>Fresh</td>\n",
              "      <td>STORE00002</td>\n",
              "      <td>LS</td>\n",
              "      <td>W01</td>\n",
              "    </tr>\n",
              "    <tr>\n",
              "      <th>802891</th>\n",
              "      <td>200619</td>\n",
              "      <td>20060706</td>\n",
              "      <td>5</td>\n",
              "      <td>19</td>\n",
              "      <td>3</td>\n",
              "      <td>3.96</td>\n",
              "      <td>PRD0904997</td>\n",
              "      <td>CL00074</td>\n",
              "      <td>DEP00021</td>\n",
              "      <td>G00007</td>\n",
              "      <td>D00002</td>\n",
              "      <td>CUST0000423155</td>\n",
              "      <td>LA</td>\n",
              "      <td>YF</td>\n",
              "      <td>994101300433650</td>\n",
              "      <td>L</td>\n",
              "      <td>LA</td>\n",
              "      <td>Full Shop</td>\n",
              "      <td>Fresh</td>\n",
              "      <td>STORE00002</td>\n",
              "      <td>LS</td>\n",
              "      <td>W01</td>\n",
              "    </tr>\n",
              "  </tbody>\n",
              "</table>\n",
              "<p>802892 rows × 22 columns</p>\n",
              "</div>"
            ],
            "text/plain": [
              "        SHOP_WEEK  SHOP_DATE  ...  STORE_FORMAT  STORE_REGION\n",
              "0          200732   20071005  ...            LS           E02\n",
              "1          200733   20071010  ...            LS           E02\n",
              "2          200741   20071209  ...            LS           E02\n",
              "3          200731   20070929  ...            LS           E02\n",
              "4          200746   20080108  ...            LS           E02\n",
              "...           ...        ...  ...           ...           ...\n",
              "802887     200633   20061009  ...            LS           W01\n",
              "802888     200634   20061022  ...            LS           W01\n",
              "802889     200618   20060701  ...            LS           W01\n",
              "802890     200617   20060622  ...            LS           W01\n",
              "802891     200619   20060706  ...            LS           W01\n",
              "\n",
              "[802892 rows x 22 columns]"
            ]
          },
          "metadata": {
            "tags": []
          },
          "execution_count": 11
        }
      ]
    },
    {
      "cell_type": "code",
      "metadata": {
        "id": "THzyNNQaHIuk"
      },
      "source": [
        "import pandas as pd\n",
        "import datetime as dt"
      ],
      "execution_count": 17,
      "outputs": []
    },
    {
      "cell_type": "code",
      "metadata": {
        "id": "awLSZfbLGe8u",
        "outputId": "faeacfc6-5e90-43c5-987a-7076f17353f4",
        "colab": {
          "base_uri": "https://localhost:8080/",
          "height": 224
        }
      },
      "source": [
        "campaign_date = dt.datetime(2021,3,17)\n",
        "df_transactions = df.copy()\n",
        "df_transactions['SHOP_DATE'] = pd.to_datetime(df_transactions['SHOP_DATE'], format='%Y%m%d')\n",
        "df_transactions['AGE'] = (campaign_date - df_transactions['SHOP_DATE']).dt.days\n",
        "df_transactions = df_transactions.sort_values(['CUST_CODE','SHOP_DATE'])\n",
        "df_transactions.head()"
      ],
      "execution_count": 25,
      "outputs": [
        {
          "output_type": "execute_result",
          "data": {
            "text/html": [
              "<div>\n",
              "<style scoped>\n",
              "    .dataframe tbody tr th:only-of-type {\n",
              "        vertical-align: middle;\n",
              "    }\n",
              "\n",
              "    .dataframe tbody tr th {\n",
              "        vertical-align: top;\n",
              "    }\n",
              "\n",
              "    .dataframe thead th {\n",
              "        text-align: right;\n",
              "    }\n",
              "</style>\n",
              "<table border=\"1\" class=\"dataframe\">\n",
              "  <thead>\n",
              "    <tr style=\"text-align: right;\">\n",
              "      <th></th>\n",
              "      <th>SHOP_WEEK</th>\n",
              "      <th>SHOP_DATE</th>\n",
              "      <th>SHOP_WEEKDAY</th>\n",
              "      <th>SHOP_HOUR</th>\n",
              "      <th>QUANTITY</th>\n",
              "      <th>SPEND</th>\n",
              "      <th>PROD_CODE</th>\n",
              "      <th>PROD_CODE_10</th>\n",
              "      <th>PROD_CODE_20</th>\n",
              "      <th>PROD_CODE_30</th>\n",
              "      <th>PROD_CODE_40</th>\n",
              "      <th>CUST_CODE</th>\n",
              "      <th>CUST_PRICE_SENSITIVITY</th>\n",
              "      <th>CUST_LIFESTAGE</th>\n",
              "      <th>BASKET_ID</th>\n",
              "      <th>BASKET_SIZE</th>\n",
              "      <th>BASKET_PRICE_SENSITIVITY</th>\n",
              "      <th>BASKET_TYPE</th>\n",
              "      <th>BASKET_DOMINANT_MISSION</th>\n",
              "      <th>STORE_CODE</th>\n",
              "      <th>STORE_FORMAT</th>\n",
              "      <th>STORE_REGION</th>\n",
              "      <th>AGE</th>\n",
              "    </tr>\n",
              "  </thead>\n",
              "  <tbody>\n",
              "    <tr>\n",
              "      <th>188786</th>\n",
              "      <td>200645</td>\n",
              "      <td>2007-01-06</td>\n",
              "      <td>7</td>\n",
              "      <td>13</td>\n",
              "      <td>1</td>\n",
              "      <td>2.44</td>\n",
              "      <td>PRD0901946</td>\n",
              "      <td>CL00079</td>\n",
              "      <td>DEP00022</td>\n",
              "      <td>G00007</td>\n",
              "      <td>D00002</td>\n",
              "      <td>CUST0000000181</td>\n",
              "      <td>MM</td>\n",
              "      <td>None</td>\n",
              "      <td>994103900142002</td>\n",
              "      <td>S</td>\n",
              "      <td>MM</td>\n",
              "      <td>Small Shop</td>\n",
              "      <td>Fresh</td>\n",
              "      <td>STORE00001</td>\n",
              "      <td>LS</td>\n",
              "      <td>E02</td>\n",
              "      <td>5184</td>\n",
              "    </tr>\n",
              "    <tr>\n",
              "      <th>578804</th>\n",
              "      <td>200607</td>\n",
              "      <td>2006-04-16</td>\n",
              "      <td>1</td>\n",
              "      <td>18</td>\n",
              "      <td>1</td>\n",
              "      <td>0.40</td>\n",
              "      <td>PRD0901383</td>\n",
              "      <td>CL00044</td>\n",
              "      <td>DEP00011</td>\n",
              "      <td>G00004</td>\n",
              "      <td>D00002</td>\n",
              "      <td>CUST0000000369</td>\n",
              "      <td>MM</td>\n",
              "      <td>OA</td>\n",
              "      <td>994100100152797</td>\n",
              "      <td>M</td>\n",
              "      <td>UM</td>\n",
              "      <td>Small Shop</td>\n",
              "      <td>Fresh</td>\n",
              "      <td>STORE00002</td>\n",
              "      <td>LS</td>\n",
              "      <td>W01</td>\n",
              "      <td>5449</td>\n",
              "    </tr>\n",
              "    <tr>\n",
              "      <th>674063</th>\n",
              "      <td>200607</td>\n",
              "      <td>2006-04-16</td>\n",
              "      <td>1</td>\n",
              "      <td>18</td>\n",
              "      <td>1</td>\n",
              "      <td>0.72</td>\n",
              "      <td>PRD0903052</td>\n",
              "      <td>CL00031</td>\n",
              "      <td>DEP00008</td>\n",
              "      <td>G00004</td>\n",
              "      <td>D00002</td>\n",
              "      <td>CUST0000000369</td>\n",
              "      <td>MM</td>\n",
              "      <td>OA</td>\n",
              "      <td>994100100152797</td>\n",
              "      <td>M</td>\n",
              "      <td>UM</td>\n",
              "      <td>Small Shop</td>\n",
              "      <td>Fresh</td>\n",
              "      <td>STORE00002</td>\n",
              "      <td>LS</td>\n",
              "      <td>W01</td>\n",
              "      <td>5449</td>\n",
              "    </tr>\n",
              "    <tr>\n",
              "      <th>743565</th>\n",
              "      <td>200607</td>\n",
              "      <td>2006-04-16</td>\n",
              "      <td>1</td>\n",
              "      <td>18</td>\n",
              "      <td>1</td>\n",
              "      <td>2.86</td>\n",
              "      <td>PRD0903953</td>\n",
              "      <td>CL00076</td>\n",
              "      <td>DEP00022</td>\n",
              "      <td>G00007</td>\n",
              "      <td>D00002</td>\n",
              "      <td>CUST0000000369</td>\n",
              "      <td>MM</td>\n",
              "      <td>OA</td>\n",
              "      <td>994100100152797</td>\n",
              "      <td>M</td>\n",
              "      <td>UM</td>\n",
              "      <td>Small Shop</td>\n",
              "      <td>Fresh</td>\n",
              "      <td>STORE00002</td>\n",
              "      <td>LS</td>\n",
              "      <td>W01</td>\n",
              "      <td>5449</td>\n",
              "    </tr>\n",
              "    <tr>\n",
              "      <th>770706</th>\n",
              "      <td>200607</td>\n",
              "      <td>2006-04-16</td>\n",
              "      <td>1</td>\n",
              "      <td>18</td>\n",
              "      <td>1</td>\n",
              "      <td>1.79</td>\n",
              "      <td>PRD0904393</td>\n",
              "      <td>CL00087</td>\n",
              "      <td>DEP00025</td>\n",
              "      <td>G00008</td>\n",
              "      <td>D00002</td>\n",
              "      <td>CUST0000000369</td>\n",
              "      <td>MM</td>\n",
              "      <td>OA</td>\n",
              "      <td>994100100152797</td>\n",
              "      <td>M</td>\n",
              "      <td>UM</td>\n",
              "      <td>Small Shop</td>\n",
              "      <td>Fresh</td>\n",
              "      <td>STORE00002</td>\n",
              "      <td>LS</td>\n",
              "      <td>W01</td>\n",
              "      <td>5449</td>\n",
              "    </tr>\n",
              "  </tbody>\n",
              "</table>\n",
              "</div>"
            ],
            "text/plain": [
              "        SHOP_WEEK  SHOP_DATE  SHOP_WEEKDAY  ...  STORE_FORMAT  STORE_REGION   AGE\n",
              "188786     200645 2007-01-06             7  ...            LS           E02  5184\n",
              "578804     200607 2006-04-16             1  ...            LS           W01  5449\n",
              "674063     200607 2006-04-16             1  ...            LS           W01  5449\n",
              "743565     200607 2006-04-16             1  ...            LS           W01  5449\n",
              "770706     200607 2006-04-16             1  ...            LS           W01  5449\n",
              "\n",
              "[5 rows x 23 columns]"
            ]
          },
          "metadata": {
            "tags": []
          },
          "execution_count": 25
        }
      ]
    },
    {
      "cell_type": "markdown",
      "metadata": {
        "id": "Fl6SuRI77Yw5"
      },
      "source": [
        "# **Create Features**"
      ]
    },
    {
      "cell_type": "code",
      "metadata": {
        "id": "r_qu6MG5MipN"
      },
      "source": [
        "#Customer Movement\n",
        "df_movement =  df_transactions[['customer_id','trans_date']]\n",
        "df_movement['date_lag'] = df_movement.groupby(['customer_id'])['trans_date'].shift(1)\n",
        "df_movement['date_lead'] = df_movement.groupby(['customer_id'])['trans_date'].shift(-1)\n",
        "df_movement['date_diff'] = (df_movement['trans_date'] - df_movement['date_lag']).dt.days"
      ],
      "execution_count": null,
      "outputs": []
    },
    {
      "cell_type": "code",
      "metadata": {
        "id": "G4ZYsWI87XYy",
        "outputId": "1946a622-120e-4cc4-ffac-3a5a93f86b59",
        "colab": {
          "base_uri": "https://localhost:8080/",
          "height": 235
        }
      },
      "source": [
        "df_sgv1 = df_transactions.groupby('CUST_CODE').agg(\n",
        "        recency=('AGE', min),                       \n",
        "        frequency=('CUST_CODE', len),                  \n",
        "        monetary=('SPEND', sum), \n",
        "        ticket_size=('SPEND','mean'),\n",
        "        std_ticket_size=('SPEND','std'),        \n",
        "        length_of_stay=('AGE', lambda x: x.max() - x.min()),\n",
        "     )\n",
        "df_sgv1.head()"
      ],
      "execution_count": 27,
      "outputs": [
        {
          "output_type": "execute_result",
          "data": {
            "text/html": [
              "<div>\n",
              "<style scoped>\n",
              "    .dataframe tbody tr th:only-of-type {\n",
              "        vertical-align: middle;\n",
              "    }\n",
              "\n",
              "    .dataframe tbody tr th {\n",
              "        vertical-align: top;\n",
              "    }\n",
              "\n",
              "    .dataframe thead th {\n",
              "        text-align: right;\n",
              "    }\n",
              "</style>\n",
              "<table border=\"1\" class=\"dataframe\">\n",
              "  <thead>\n",
              "    <tr style=\"text-align: right;\">\n",
              "      <th></th>\n",
              "      <th>recency</th>\n",
              "      <th>frequency</th>\n",
              "      <th>monetary</th>\n",
              "      <th>ticket_size</th>\n",
              "      <th>std_ticket_size</th>\n",
              "      <th>length_of_stay</th>\n",
              "    </tr>\n",
              "    <tr>\n",
              "      <th>CUST_CODE</th>\n",
              "      <th></th>\n",
              "      <th></th>\n",
              "      <th></th>\n",
              "      <th></th>\n",
              "      <th></th>\n",
              "      <th></th>\n",
              "    </tr>\n",
              "  </thead>\n",
              "  <tbody>\n",
              "    <tr>\n",
              "      <th>CUST0000000181</th>\n",
              "      <td>5184</td>\n",
              "      <td>1</td>\n",
              "      <td>2.44</td>\n",
              "      <td>2.440000</td>\n",
              "      <td>NaN</td>\n",
              "      <td>0</td>\n",
              "    </tr>\n",
              "    <tr>\n",
              "      <th>CUST0000000369</th>\n",
              "      <td>4638</td>\n",
              "      <td>699</td>\n",
              "      <td>959.33</td>\n",
              "      <td>1.372432</td>\n",
              "      <td>1.790510</td>\n",
              "      <td>811</td>\n",
              "    </tr>\n",
              "    <tr>\n",
              "      <th>CUST0000000689</th>\n",
              "      <td>4650</td>\n",
              "      <td>185</td>\n",
              "      <td>328.57</td>\n",
              "      <td>1.776054</td>\n",
              "      <td>1.797741</td>\n",
              "      <td>337</td>\n",
              "    </tr>\n",
              "    <tr>\n",
              "      <th>CUST0000000998</th>\n",
              "      <td>5367</td>\n",
              "      <td>4</td>\n",
              "      <td>5.95</td>\n",
              "      <td>1.487500</td>\n",
              "      <td>0.695000</td>\n",
              "      <td>64</td>\n",
              "    </tr>\n",
              "    <tr>\n",
              "      <th>CUST0000001163</th>\n",
              "      <td>4651</td>\n",
              "      <td>25</td>\n",
              "      <td>39.74</td>\n",
              "      <td>1.589600</td>\n",
              "      <td>1.870184</td>\n",
              "      <td>609</td>\n",
              "    </tr>\n",
              "  </tbody>\n",
              "</table>\n",
              "</div>"
            ],
            "text/plain": [
              "                recency  frequency  ...  std_ticket_size  length_of_stay\n",
              "CUST_CODE                           ...                                 \n",
              "CUST0000000181     5184          1  ...              NaN               0\n",
              "CUST0000000369     4638        699  ...         1.790510             811\n",
              "CUST0000000689     4650        185  ...         1.797741             337\n",
              "CUST0000000998     5367          4  ...         0.695000              64\n",
              "CUST0000001163     4651         25  ...         1.870184             609\n",
              "\n",
              "[5 rows x 6 columns]"
            ]
          },
          "metadata": {
            "tags": []
          },
          "execution_count": 27
        }
      ]
    },
    {
      "cell_type": "code",
      "metadata": {
        "id": "orsnE8CXY2fb",
        "colab": {
          "base_uri": "https://localhost:8080/",
          "height": 705
        },
        "outputId": "ebeb0585-db40-4a28-a63d-bf6f3f367094"
      },
      "source": [
        "import matplotlib.pyplot as plt\n",
        "import seaborn as sns\n",
        "\n",
        "for i, col in enumerate(df.columns[1:]):\n",
        "    plt.figure(i)\n",
        "    sns.distplot(df[col])\n",
        "    \n",
        "plt.show()"
      ],
      "execution_count": null,
      "outputs": [
        {
          "output_type": "display_data",
          "data": {
            "image/png": "[encoded data removed]",
            "text/plain": [
              "<matplotlib.figure.Figure at 0x7f23c93b4f60>"
            ]
          },
          "metadata": {
            "tags": []
          }
        },
        {
          "output_type": "display_data",
          "data": {
            "image/png": "[encoded data removed]",
            "text/plain": [
              "<matplotlib.figure.Figure at 0x7f23c9d4d978>"
            ]
          },
          "metadata": {
            "tags": []
          }
        }
      ]
    },
    {
      "cell_type": "code",
      "metadata": {
        "id": "gP4C36usY5Kx",
        "colab": {
          "base_uri": "https://localhost:8080/",
          "height": 203
        },
        "outputId": "5f999140-f61c-4f03-e3ae-ffea14d58bdc"
      },
      "source": [
        "from sklearn.preprocessing import StandardScaler\n",
        "\n",
        "df_std = pd.DataFrame(StandardScaler().fit_transform(df[df.columns[1:]]))\n",
        "df_std.head(5)"
      ],
      "execution_count": null,
      "outputs": [
        {
          "output_type": "execute_result",
          "data": {
            "text/html": [
              "<div>\n",
              "<style scoped>\n",
              "    .dataframe tbody tr th:only-of-type {\n",
              "        vertical-align: middle;\n",
              "    }\n",
              "\n",
              "    .dataframe tbody tr th {\n",
              "        vertical-align: top;\n",
              "    }\n",
              "\n",
              "    .dataframe thead th {\n",
              "        text-align: right;\n",
              "    }\n",
              "</style>\n",
              "<table border=\"1\" class=\"dataframe\">\n",
              "  <thead>\n",
              "    <tr style=\"text-align: right;\">\n",
              "      <th></th>\n",
              "      <th>0</th>\n",
              "      <th>1</th>\n",
              "    </tr>\n",
              "  </thead>\n",
              "  <tbody>\n",
              "    <tr>\n",
              "      <th>0</th>\n",
              "      <td>0.728891</td>\n",
              "      <td>1.750567</td>\n",
              "    </tr>\n",
              "    <tr>\n",
              "      <th>1</th>\n",
              "      <td>0.222925</td>\n",
              "      <td>1.750567</td>\n",
              "    </tr>\n",
              "    <tr>\n",
              "      <th>2</th>\n",
              "      <td>0.726733</td>\n",
              "      <td>1.750567</td>\n",
              "    </tr>\n",
              "    <tr>\n",
              "      <th>3</th>\n",
              "      <td>2.735129</td>\n",
              "      <td>4.269142</td>\n",
              "    </tr>\n",
              "    <tr>\n",
              "      <th>4</th>\n",
              "      <td>2.310008</td>\n",
              "      <td>4.269142</td>\n",
              "    </tr>\n",
              "  </tbody>\n",
              "</table>\n",
              "</div>"
            ],
            "text/plain": [
              "          0         1\n",
              "0  0.728891  1.750567\n",
              "1  0.222925  1.750567\n",
              "2  0.726733  1.750567\n",
              "3  2.735129  4.269142\n",
              "4  2.310008  4.269142"
            ]
          },
          "metadata": {
            "tags": []
          },
          "execution_count": 4
        }
      ]
    },
    {
      "cell_type": "code",
      "metadata": {
        "id": "8Q2wvP0vY7Lm",
        "colab": {
          "base_uri": "https://localhost:8080/",
          "height": 376
        },
        "outputId": "439d7065-4c08-4b56-d18b-fc4404569385"
      },
      "source": [
        "from sklearn.cluster import KMeans\n",
        "# Use the Elbow method to find a good number of clusters using Within-Cluster-Sum-of-Squares (WCSS)\n",
        "wcss = []\n",
        "N = range(1, 15)\n",
        "for i in N:\n",
        "    kmeans = KMeans(n_clusters=i) \n",
        "    kmeans.fit_predict(df_std)\n",
        "    wcss.append(kmeans.inertia_)\n",
        "    \n",
        "plt.plot(N, wcss, 'bo-')\n",
        "plt.title(\"Computing Within-Cluster-Sum-of-Squares (WCSS) for KMeans++\")\n",
        "plt.xlabel(\"Number of clusters\")\n",
        "plt.ylabel(\"WCSS\")\n",
        "plt.show()"
      ],
      "execution_count": null,
      "outputs": [
        {
          "output_type": "display_data",
          "data": {
            "image/png": "[encoded data removed]",
            "text/plain": [
              "<matplotlib.figure.Figure at 0x7f23c8d58668>"
            ]
          },
          "metadata": {
            "tags": []
          }
        }
      ]
    },
    {
      "cell_type": "code",
      "metadata": {
        "id": "hmgpI2DcY9-D"
      },
      "source": [
        "#let's choose k = 7\n",
        "cluster = KMeans(n_clusters=7)\n",
        "df['cluster'] = cluster.fit_predict(df_std)"
      ],
      "execution_count": null,
      "outputs": []
    },
    {
      "cell_type": "code",
      "metadata": {
        "id": "dHLsrgdbY_g3",
        "colab": {
          "base_uri": "https://localhost:8080/",
          "height": 265
        },
        "outputId": "e9149a62-9ee1-40c2-8a59-6e80f6af528d"
      },
      "source": [
        "dfCluster = df.groupby('cluster', as_index=False).mean()\n",
        "dfCluster['NO_CUST'] = df[['cluster','CUST_CODE']].groupby('cluster').count()\n",
        "\n",
        "dfCluster"
      ],
      "execution_count": null,
      "outputs": [
        {
          "output_type": "execute_result",
          "data": {
            "text/html": [
              "<div>\n",
              "<style scoped>\n",
              "    .dataframe tbody tr th:only-of-type {\n",
              "        vertical-align: middle;\n",
              "    }\n",
              "\n",
              "    .dataframe tbody tr th {\n",
              "        vertical-align: top;\n",
              "    }\n",
              "\n",
              "    .dataframe thead th {\n",
              "        text-align: right;\n",
              "    }\n",
              "</style>\n",
              "<table border=\"1\" class=\"dataframe\">\n",
              "  <thead>\n",
              "    <tr style=\"text-align: right;\">\n",
              "      <th></th>\n",
              "      <th>cluster</th>\n",
              "      <th>TOTAL_SALES</th>\n",
              "      <th>TOTAL_VISIT</th>\n",
              "      <th>NO_CUST</th>\n",
              "    </tr>\n",
              "  </thead>\n",
              "  <tbody>\n",
              "    <tr>\n",
              "      <th>0</th>\n",
              "      <td>0</td>\n",
              "      <td>138.411809</td>\n",
              "      <td>14.078606</td>\n",
              "      <td>2697</td>\n",
              "    </tr>\n",
              "    <tr>\n",
              "      <th>1</th>\n",
              "      <td>1</td>\n",
              "      <td>1400.729032</td>\n",
              "      <td>172.572632</td>\n",
              "      <td>475</td>\n",
              "    </tr>\n",
              "    <tr>\n",
              "      <th>2</th>\n",
              "      <td>2</td>\n",
              "      <td>981.317955</td>\n",
              "      <td>79.483776</td>\n",
              "      <td>1017</td>\n",
              "    </tr>\n",
              "    <tr>\n",
              "      <th>3</th>\n",
              "      <td>3</td>\n",
              "      <td>2647.487282</td>\n",
              "      <td>322.333333</td>\n",
              "      <td>195</td>\n",
              "    </tr>\n",
              "    <tr>\n",
              "      <th>4</th>\n",
              "      <td>4</td>\n",
              "      <td>5432.253543</td>\n",
              "      <td>222.417323</td>\n",
              "      <td>127</td>\n",
              "    </tr>\n",
              "    <tr>\n",
              "      <th>5</th>\n",
              "      <td>5</td>\n",
              "      <td>4927.428571</td>\n",
              "      <td>564.873016</td>\n",
              "      <td>63</td>\n",
              "    </tr>\n",
              "    <tr>\n",
              "      <th>6</th>\n",
              "      <td>6</td>\n",
              "      <td>3008.894883</td>\n",
              "      <td>147.544601</td>\n",
              "      <td>426</td>\n",
              "    </tr>\n",
              "  </tbody>\n",
              "</table>\n",
              "</div>"
            ],
            "text/plain": [
              "   cluster  TOTAL_SALES  TOTAL_VISIT  NO_CUST\n",
              "0        0   138.411809    14.078606     2697\n",
              "1        1  1400.729032   172.572632      475\n",
              "2        2   981.317955    79.483776     1017\n",
              "3        3  2647.487282   322.333333      195\n",
              "4        4  5432.253543   222.417323      127\n",
              "5        5  4927.428571   564.873016       63\n",
              "6        6  3008.894883   147.544601      426"
            ]
          },
          "metadata": {
            "tags": []
          },
          "execution_count": 8
        }
      ]
    },
    {
      "cell_type": "code",
      "metadata": {
        "id": "-JD5wrZxZF4d",
        "colab": {
          "base_uri": "https://localhost:8080/",
          "height": 378
        },
        "outputId": "01666a60-ea9b-4a0e-9d10-5e1366d6f177"
      },
      "source": [
        "import matplotlib.pyplot as plt\n",
        "import seaborn as sns\n",
        "\n",
        "plt.figure()\n",
        "fig, ax = plt.subplots()\n",
        "ax.scatter(dfCluster['TOTAL_SALES'], dfCluster['TOTAL_VISIT'], s=dfCluster['NO_CUST'], alpha = 0.5)\n",
        "ax.set_xlabel(\"TOTAL_SALES\")\n",
        "ax.set_ylabel(\"TOTAL_VISIT\")\n",
        "\n",
        "for i, txt in enumerate(dfCluster['cluster']):\n",
        "  ax.annotate(txt, (dfCluster['TOTAL_SALES'][i], dfCluster[\"TOTAL_VISIT\"][i]), horizontalalignment='middle', verticalalignment='middle')\n",
        "\n",
        "plt.show()"
      ],
      "execution_count": null,
      "outputs": [
        {
          "output_type": "display_data",
          "data": {
            "text/plain": [
              "<matplotlib.figure.Figure at 0x7f23c137cd30>"
            ]
          },
          "metadata": {
            "tags": []
          }
        },
        {
          "output_type": "display_data",
          "data": {
            "image/png": "[encoded data removed]",
            "text/plain": [
              "<matplotlib.figure.Figure at 0x7f23c137ccf8>"
            ]
          },
          "metadata": {
            "tags": []
          }
        }
      ]
    },
    {
      "cell_type": "code",
      "metadata": {
        "id": "FiBOcQtCZunp",
        "colab": {
          "base_uri": "https://localhost:8080/",
          "height": 759
        },
        "outputId": "c343bde0-9b96-48ee-aa17-6d4ebe71d53f"
      },
      "source": [
        "for i, col in enumerate(df.columns[1:-1]):\n",
        "    sns.boxplot(x=\"cluster\", y =col, data=df)\n",
        "    plt.show()"
      ],
      "execution_count": null,
      "outputs": [
        {
          "output_type": "stream",
          "text": [
            "/usr/local/lib/python3.6/dist-packages/seaborn/categorical.py:454: FutureWarning: remove_na is deprecated and is a private function. Do not use.\n",
            "  box_data = remove_na(group_data)\n"
          ],
          "name": "stderr"
        },
        {
          "output_type": "display_data",
          "data": {
            "image/png": "[encoded data removed]",
            "text/plain": [
              "<matplotlib.figure.Figure at 0x7f23c1374ef0>"
            ]
          },
          "metadata": {
            "tags": []
          }
        },
        {
          "output_type": "display_data",
          "data": {
            "image/png": "[encoded data removed]",
            "text/plain": [
              "<matplotlib.figure.Figure at 0x7f23c131b630>"
            ]
          },
          "metadata": {
            "tags": []
          }
        }
      ]
    },
    {
      "cell_type": "code",
      "metadata": {
        "id": "vSRTVL_5Zx5p",
        "colab": {
          "base_uri": "https://localhost:8080/",
          "height": 120
        },
        "outputId": "8e641156-099c-4fb2-82aa-7f332102c763"
      },
      "source": [
        "from sklearn.ensemble import RandomForestClassifier\n",
        "\n",
        "predictors = df.iloc[:,1:-1]\n",
        "targets = df.iloc[:,-1:]\n",
        "\n",
        "scaler = StandardScaler()\n",
        "predictors_scaled = scaler.fit_transform(predictors)\n",
        "\n",
        "classifier = RandomForestClassifier(n_estimators = 10, criterion = 'entropy', random_state = 42)\n",
        "classifier.fit(predictors_scaled, targets.values.ravel())\n"
      ],
      "execution_count": null,
      "outputs": [
        {
          "output_type": "execute_result",
          "data": {
            "text/plain": [
              "RandomForestClassifier(bootstrap=True, class_weight=None, criterion='entropy',\n",
              "            max_depth=None, max_features='auto', max_leaf_nodes=None,\n",
              "            min_impurity_decrease=0.0, min_impurity_split=None,\n",
              "            min_samples_leaf=1, min_samples_split=2,\n",
              "            min_weight_fraction_leaf=0.0, n_estimators=10, n_jobs=1,\n",
              "            oob_score=False, random_state=42, verbose=0, warm_start=False)"
            ]
          },
          "metadata": {
            "tags": []
          },
          "execution_count": 18
        }
      ]
    },
    {
      "cell_type": "code",
      "metadata": {
        "id": "VajR1gA4Zzzx",
        "colab": {
          "base_uri": "https://localhost:8080/",
          "height": 51
        },
        "outputId": "a44139a3-e4e1-4802-a991-4ca3aa19b4d6"
      },
      "source": [
        "importances = list(classifier.feature_importances_)\n",
        "\n",
        "feature_list = list(predictors.columns)\n",
        "feature_importances = [(feature, round(importance, 2)) for feature, importance in zip(feature_list, importances)]\n",
        "feature_importances = sorted(feature_importances, key = lambda x: x[1], reverse = True)\n",
        "[print('Variable: {:20} Importance: {}'.format(*pair)) for pair in feature_importances];"
      ],
      "execution_count": null,
      "outputs": [
        {
          "output_type": "stream",
          "text": [
            "Variable: TOTAL_SALES          Importance: 0.55\n",
            "Variable: TOTAL_VISIT          Importance: 0.45\n"
          ],
          "name": "stdout"
        }
      ]
    }
  ]
}