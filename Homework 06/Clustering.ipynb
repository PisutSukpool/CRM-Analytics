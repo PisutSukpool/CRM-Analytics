{
  "nbformat": 4,
  "nbformat_minor": 0,
  "metadata": {
    "colab": {
      "name": "Clustering.ipynb",
      "provenance": [],
      "collapsed_sections": []
    },
    "kernelspec": {
      "name": "python3",
      "display_name": "Python 3"
    }
  },
  "cells": [
    {
      "cell_type": "code",
      "metadata": {
        "id": "jmNihptfYWLR",
        "colab": {
          "base_uri": "https://localhost:8080/"
        },
        "outputId": "039c83cd-d8ab-4a9d-d4f1-c08af443fd84"
      },
      "source": [
        "from google.colab import auth\n",
        "auth.authenticate_user()\n",
        "print('Authenticated')"
      ],
      "execution_count": 3,
      "outputs": [
        {
          "output_type": "stream",
          "text": [
            "Authenticated\n"
          ],
          "name": "stdout"
        }
      ]
    },
    {
      "cell_type": "code",
      "metadata": {
        "colab": {
          "base_uri": "https://localhost:8080/",
          "height": 457
        },
        "id": "ltLxE5bXuSWX",
        "outputId": "56c0f3c5-e6dc-40ee-aeae-a3c42ee0f1dd"
      },
      "source": [
        "from google.cloud import bigquery\n",
        "\n",
        "client = bigquery.Client(project='bads-7105-308315')\n",
        "\n",
        "df = client.query('''\n",
        "SELECT * FROM `bads-7105-308315.supermarket.transaction`\n",
        "WHERE CUST_CODE IS NOT NULL \n",
        "''').to_dataframe()\n",
        "\n",
        "df"
      ],
      "execution_count": 11,
      "outputs": [
        {
          "output_type": "stream",
          "text": [
            "WARNING:google.auth._default:No project ID could be determined. Consider running `gcloud config set project` or setting the GOOGLE_CLOUD_PROJECT environment variable\n"
          ],
          "name": "stderr"
        },
        {
          "output_type": "execute_result",
          "data": {
            "text/html": [
              "<div>\n",
              "<style scoped>\n",
              "    .dataframe tbody tr th:only-of-type {\n",
              "        vertical-align: middle;\n",
              "    }\n",
              "\n",
              "    .dataframe tbody tr th {\n",
              "        vertical-align: top;\n",
              "    }\n",
              "\n",
              "    .dataframe thead th {\n",
              "        text-align: right;\n",
              "    }\n",
              "</style>\n",
              "<table border=\"1\" class=\"dataframe\">\n",
              "  <thead>\n",
              "    <tr style=\"text-align: right;\">\n",
              "      <th></th>\n",
              "      <th>SHOP_WEEK</th>\n",
              "      <th>SHOP_DATE</th>\n",
              "      <th>SHOP_WEEKDAY</th>\n",
              "      <th>SHOP_HOUR</th>\n",
              "      <th>QUANTITY</th>\n",
              "      <th>SPEND</th>\n",
              "      <th>PROD_CODE</th>\n",
              "      <th>PROD_CODE_10</th>\n",
              "      <th>PROD_CODE_20</th>\n",
              "      <th>PROD_CODE_30</th>\n",
              "      <th>PROD_CODE_40</th>\n",
              "      <th>CUST_CODE</th>\n",
              "      <th>CUST_PRICE_SENSITIVITY</th>\n",
              "      <th>CUST_LIFESTAGE</th>\n",
              "      <th>BASKET_ID</th>\n",
              "      <th>BASKET_SIZE</th>\n",
              "      <th>BASKET_PRICE_SENSITIVITY</th>\n",
              "      <th>BASKET_TYPE</th>\n",
              "      <th>BASKET_DOMINANT_MISSION</th>\n",
              "      <th>STORE_CODE</th>\n",
              "      <th>STORE_FORMAT</th>\n",
              "      <th>STORE_REGION</th>\n",
              "    </tr>\n",
              "  </thead>\n",
              "  <tbody>\n",
              "    <tr>\n",
              "      <th>0</th>\n",
              "      <td>200732</td>\n",
              "      <td>20071005</td>\n",
              "      <td>6</td>\n",
              "      <td>17</td>\n",
              "      <td>3</td>\n",
              "      <td>6.75</td>\n",
              "      <td>PRD0900001</td>\n",
              "      <td>CL00072</td>\n",
              "      <td>DEP00021</td>\n",
              "      <td>G00007</td>\n",
              "      <td>D00002</td>\n",
              "      <td>CUST0000583261</td>\n",
              "      <td>UM</td>\n",
              "      <td>YF</td>\n",
              "      <td>994107800547472</td>\n",
              "      <td>L</td>\n",
              "      <td>MM</td>\n",
              "      <td>Top Up</td>\n",
              "      <td>Grocery</td>\n",
              "      <td>STORE00001</td>\n",
              "      <td>LS</td>\n",
              "      <td>E02</td>\n",
              "    </tr>\n",
              "    <tr>\n",
              "      <th>1</th>\n",
              "      <td>200733</td>\n",
              "      <td>20071010</td>\n",
              "      <td>4</td>\n",
              "      <td>20</td>\n",
              "      <td>3</td>\n",
              "      <td>6.75</td>\n",
              "      <td>PRD0900001</td>\n",
              "      <td>CL00072</td>\n",
              "      <td>DEP00021</td>\n",
              "      <td>G00007</td>\n",
              "      <td>D00002</td>\n",
              "      <td>CUST0000537317</td>\n",
              "      <td>MM</td>\n",
              "      <td>OF</td>\n",
              "      <td>994107900512001</td>\n",
              "      <td>L</td>\n",
              "      <td>MM</td>\n",
              "      <td>Full Shop</td>\n",
              "      <td>Fresh</td>\n",
              "      <td>STORE00001</td>\n",
              "      <td>LS</td>\n",
              "      <td>E02</td>\n",
              "    </tr>\n",
              "    <tr>\n",
              "      <th>2</th>\n",
              "      <td>200741</td>\n",
              "      <td>20071209</td>\n",
              "      <td>1</td>\n",
              "      <td>11</td>\n",
              "      <td>1</td>\n",
              "      <td>2.25</td>\n",
              "      <td>PRD0900001</td>\n",
              "      <td>CL00072</td>\n",
              "      <td>DEP00021</td>\n",
              "      <td>G00007</td>\n",
              "      <td>D00002</td>\n",
              "      <td>CUST0000472158</td>\n",
              "      <td>MM</td>\n",
              "      <td>YF</td>\n",
              "      <td>994108700468327</td>\n",
              "      <td>L</td>\n",
              "      <td>MM</td>\n",
              "      <td>Full Shop</td>\n",
              "      <td>Grocery</td>\n",
              "      <td>STORE00001</td>\n",
              "      <td>LS</td>\n",
              "      <td>E02</td>\n",
              "    </tr>\n",
              "    <tr>\n",
              "      <th>3</th>\n",
              "      <td>200731</td>\n",
              "      <td>20070929</td>\n",
              "      <td>7</td>\n",
              "      <td>17</td>\n",
              "      <td>1</td>\n",
              "      <td>2.25</td>\n",
              "      <td>PRD0900001</td>\n",
              "      <td>CL00072</td>\n",
              "      <td>DEP00021</td>\n",
              "      <td>G00007</td>\n",
              "      <td>D00002</td>\n",
              "      <td>CUST0000099658</td>\n",
              "      <td>LA</td>\n",
              "      <td>OF</td>\n",
              "      <td>994107700237811</td>\n",
              "      <td>L</td>\n",
              "      <td>LA</td>\n",
              "      <td>Full Shop</td>\n",
              "      <td>Mixed</td>\n",
              "      <td>STORE00001</td>\n",
              "      <td>LS</td>\n",
              "      <td>E02</td>\n",
              "    </tr>\n",
              "    <tr>\n",
              "      <th>4</th>\n",
              "      <td>200746</td>\n",
              "      <td>20080108</td>\n",
              "      <td>3</td>\n",
              "      <td>15</td>\n",
              "      <td>1</td>\n",
              "      <td>2.25</td>\n",
              "      <td>PRD0900001</td>\n",
              "      <td>CL00072</td>\n",
              "      <td>DEP00021</td>\n",
              "      <td>G00007</td>\n",
              "      <td>D00002</td>\n",
              "      <td>CUST0000556927</td>\n",
              "      <td>MM</td>\n",
              "      <td>None</td>\n",
              "      <td>994109200504187</td>\n",
              "      <td>L</td>\n",
              "      <td>MM</td>\n",
              "      <td>Top Up</td>\n",
              "      <td>Fresh</td>\n",
              "      <td>STORE00001</td>\n",
              "      <td>LS</td>\n",
              "      <td>E02</td>\n",
              "    </tr>\n",
              "    <tr>\n",
              "      <th>...</th>\n",
              "      <td>...</td>\n",
              "      <td>...</td>\n",
              "      <td>...</td>\n",
              "      <td>...</td>\n",
              "      <td>...</td>\n",
              "      <td>...</td>\n",
              "      <td>...</td>\n",
              "      <td>...</td>\n",
              "      <td>...</td>\n",
              "      <td>...</td>\n",
              "      <td>...</td>\n",
              "      <td>...</td>\n",
              "      <td>...</td>\n",
              "      <td>...</td>\n",
              "      <td>...</td>\n",
              "      <td>...</td>\n",
              "      <td>...</td>\n",
              "      <td>...</td>\n",
              "      <td>...</td>\n",
              "      <td>...</td>\n",
              "      <td>...</td>\n",
              "      <td>...</td>\n",
              "    </tr>\n",
              "    <tr>\n",
              "      <th>802887</th>\n",
              "      <td>200633</td>\n",
              "      <td>20061009</td>\n",
              "      <td>2</td>\n",
              "      <td>12</td>\n",
              "      <td>3</td>\n",
              "      <td>3.96</td>\n",
              "      <td>PRD0904997</td>\n",
              "      <td>CL00074</td>\n",
              "      <td>DEP00021</td>\n",
              "      <td>G00007</td>\n",
              "      <td>D00002</td>\n",
              "      <td>CUST0000689580</td>\n",
              "      <td>LA</td>\n",
              "      <td>OT</td>\n",
              "      <td>994102700591584</td>\n",
              "      <td>L</td>\n",
              "      <td>LA</td>\n",
              "      <td>Full Shop</td>\n",
              "      <td>Mixed</td>\n",
              "      <td>STORE00002</td>\n",
              "      <td>LS</td>\n",
              "      <td>W01</td>\n",
              "    </tr>\n",
              "    <tr>\n",
              "      <th>802888</th>\n",
              "      <td>200634</td>\n",
              "      <td>20061022</td>\n",
              "      <td>1</td>\n",
              "      <td>16</td>\n",
              "      <td>3</td>\n",
              "      <td>3.96</td>\n",
              "      <td>PRD0904997</td>\n",
              "      <td>CL00074</td>\n",
              "      <td>DEP00021</td>\n",
              "      <td>G00007</td>\n",
              "      <td>D00002</td>\n",
              "      <td>CUST0000910590</td>\n",
              "      <td>LA</td>\n",
              "      <td>OA</td>\n",
              "      <td>994102800730797</td>\n",
              "      <td>L</td>\n",
              "      <td>LA</td>\n",
              "      <td>Top Up</td>\n",
              "      <td>Grocery</td>\n",
              "      <td>STORE00002</td>\n",
              "      <td>LS</td>\n",
              "      <td>W01</td>\n",
              "    </tr>\n",
              "    <tr>\n",
              "      <th>802889</th>\n",
              "      <td>200618</td>\n",
              "      <td>20060701</td>\n",
              "      <td>7</td>\n",
              "      <td>12</td>\n",
              "      <td>3</td>\n",
              "      <td>3.96</td>\n",
              "      <td>PRD0904997</td>\n",
              "      <td>CL00074</td>\n",
              "      <td>DEP00021</td>\n",
              "      <td>G00007</td>\n",
              "      <td>D00002</td>\n",
              "      <td>CUST0000956717</td>\n",
              "      <td>LA</td>\n",
              "      <td>OA</td>\n",
              "      <td>994101200777910</td>\n",
              "      <td>L</td>\n",
              "      <td>LA</td>\n",
              "      <td>Top Up</td>\n",
              "      <td>Fresh</td>\n",
              "      <td>STORE00002</td>\n",
              "      <td>LS</td>\n",
              "      <td>W01</td>\n",
              "    </tr>\n",
              "    <tr>\n",
              "      <th>802890</th>\n",
              "      <td>200617</td>\n",
              "      <td>20060622</td>\n",
              "      <td>5</td>\n",
              "      <td>18</td>\n",
              "      <td>3</td>\n",
              "      <td>3.96</td>\n",
              "      <td>PRD0904997</td>\n",
              "      <td>CL00074</td>\n",
              "      <td>DEP00021</td>\n",
              "      <td>G00007</td>\n",
              "      <td>D00002</td>\n",
              "      <td>CUST0000544241</td>\n",
              "      <td>LA</td>\n",
              "      <td>YA</td>\n",
              "      <td>994101100506174</td>\n",
              "      <td>L</td>\n",
              "      <td>LA</td>\n",
              "      <td>Top Up</td>\n",
              "      <td>Fresh</td>\n",
              "      <td>STORE00002</td>\n",
              "      <td>LS</td>\n",
              "      <td>W01</td>\n",
              "    </tr>\n",
              "    <tr>\n",
              "      <th>802891</th>\n",
              "      <td>200619</td>\n",
              "      <td>20060706</td>\n",
              "      <td>5</td>\n",
              "      <td>19</td>\n",
              "      <td>3</td>\n",
              "      <td>3.96</td>\n",
              "      <td>PRD0904997</td>\n",
              "      <td>CL00074</td>\n",
              "      <td>DEP00021</td>\n",
              "      <td>G00007</td>\n",
              "      <td>D00002</td>\n",
              "      <td>CUST0000423155</td>\n",
              "      <td>LA</td>\n",
              "      <td>YF</td>\n",
              "      <td>994101300433650</td>\n",
              "      <td>L</td>\n",
              "      <td>LA</td>\n",
              "      <td>Full Shop</td>\n",
              "      <td>Fresh</td>\n",
              "      <td>STORE00002</td>\n",
              "      <td>LS</td>\n",
              "      <td>W01</td>\n",
              "    </tr>\n",
              "  </tbody>\n",
              "</table>\n",
              "<p>802892 rows × 22 columns</p>\n",
              "</div>"
            ],
            "text/plain": [
              "        SHOP_WEEK  SHOP_DATE  ...  STORE_FORMAT  STORE_REGION\n",
              "0          200732   20071005  ...            LS           E02\n",
              "1          200733   20071010  ...            LS           E02\n",
              "2          200741   20071209  ...            LS           E02\n",
              "3          200731   20070929  ...            LS           E02\n",
              "4          200746   20080108  ...            LS           E02\n",
              "...           ...        ...  ...           ...           ...\n",
              "802887     200633   20061009  ...            LS           W01\n",
              "802888     200634   20061022  ...            LS           W01\n",
              "802889     200618   20060701  ...            LS           W01\n",
              "802890     200617   20060622  ...            LS           W01\n",
              "802891     200619   20060706  ...            LS           W01\n",
              "\n",
              "[802892 rows x 22 columns]"
            ]
          },
          "metadata": {
            "tags": []
          },
          "execution_count": 11
        }
      ]
    },
    {
      "cell_type": "code",
      "metadata": {
        "id": "THzyNNQaHIuk"
      },
      "source": [
        "import pandas as pd\n",
        "import numpy as np\n",
        "import datetime as dt\n",
        "import matplotlib.pyplot as plt\n",
        "import seaborn as sns\n",
        "from sklearn.cluster import KMeans\n",
        "from sklearn import preprocessing\n",
        "from sklearn.metrics import silhouette_score\n",
        "from sklearn.preprocessing import scale, StandardScaler\n",
        "from sklearn.ensemble import RandomForestClassifier "
      ],
      "execution_count": 76,
      "outputs": []
    },
    {
      "cell_type": "code",
      "metadata": {
        "colab": {
          "base_uri": "https://localhost:8080/",
          "height": 224
        },
        "id": "awLSZfbLGe8u",
        "outputId": "f95227ca-14fc-4ddf-b53c-30ac6b9fd2c6"
      },
      "source": [
        "campaign_date = dt.datetime(2021,3,17)\n",
        "df_transactions = df.copy()\n",
        "df_transactions['SHOP_DATE'] = pd.to_datetime(df_transactions['SHOP_DATE'], format='%Y%m%d')\n",
        "df_transactions['AGE'] = (campaign_date - df_transactions['SHOP_DATE']).dt.days\n",
        "df_transactions = df_transactions.sort_values(['CUST_CODE','SHOP_DATE'])\n",
        "df_transactions.head()"
      ],
      "execution_count": 35,
      "outputs": [
        {
          "output_type": "execute_result",
          "data": {
            "text/html": [
              "<div>\n",
              "<style scoped>\n",
              "    .dataframe tbody tr th:only-of-type {\n",
              "        vertical-align: middle;\n",
              "    }\n",
              "\n",
              "    .dataframe tbody tr th {\n",
              "        vertical-align: top;\n",
              "    }\n",
              "\n",
              "    .dataframe thead th {\n",
              "        text-align: right;\n",
              "    }\n",
              "</style>\n",
              "<table border=\"1\" class=\"dataframe\">\n",
              "  <thead>\n",
              "    <tr style=\"text-align: right;\">\n",
              "      <th></th>\n",
              "      <th>SHOP_WEEK</th>\n",
              "      <th>SHOP_DATE</th>\n",
              "      <th>SHOP_WEEKDAY</th>\n",
              "      <th>SHOP_HOUR</th>\n",
              "      <th>QUANTITY</th>\n",
              "      <th>SPEND</th>\n",
              "      <th>PROD_CODE</th>\n",
              "      <th>PROD_CODE_10</th>\n",
              "      <th>PROD_CODE_20</th>\n",
              "      <th>PROD_CODE_30</th>\n",
              "      <th>PROD_CODE_40</th>\n",
              "      <th>CUST_CODE</th>\n",
              "      <th>CUST_PRICE_SENSITIVITY</th>\n",
              "      <th>CUST_LIFESTAGE</th>\n",
              "      <th>BASKET_ID</th>\n",
              "      <th>BASKET_SIZE</th>\n",
              "      <th>BASKET_PRICE_SENSITIVITY</th>\n",
              "      <th>BASKET_TYPE</th>\n",
              "      <th>BASKET_DOMINANT_MISSION</th>\n",
              "      <th>STORE_CODE</th>\n",
              "      <th>STORE_FORMAT</th>\n",
              "      <th>STORE_REGION</th>\n",
              "      <th>AGE</th>\n",
              "    </tr>\n",
              "  </thead>\n",
              "  <tbody>\n",
              "    <tr>\n",
              "      <th>188786</th>\n",
              "      <td>200645</td>\n",
              "      <td>2007-01-06</td>\n",
              "      <td>7</td>\n",
              "      <td>13</td>\n",
              "      <td>1</td>\n",
              "      <td>2.44</td>\n",
              "      <td>PRD0901946</td>\n",
              "      <td>CL00079</td>\n",
              "      <td>DEP00022</td>\n",
              "      <td>G00007</td>\n",
              "      <td>D00002</td>\n",
              "      <td>CUST0000000181</td>\n",
              "      <td>MM</td>\n",
              "      <td>None</td>\n",
              "      <td>994103900142002</td>\n",
              "      <td>S</td>\n",
              "      <td>MM</td>\n",
              "      <td>Small Shop</td>\n",
              "      <td>Fresh</td>\n",
              "      <td>STORE00001</td>\n",
              "      <td>LS</td>\n",
              "      <td>E02</td>\n",
              "      <td>5184</td>\n",
              "    </tr>\n",
              "    <tr>\n",
              "      <th>578804</th>\n",
              "      <td>200607</td>\n",
              "      <td>2006-04-16</td>\n",
              "      <td>1</td>\n",
              "      <td>18</td>\n",
              "      <td>1</td>\n",
              "      <td>0.40</td>\n",
              "      <td>PRD0901383</td>\n",
              "      <td>CL00044</td>\n",
              "      <td>DEP00011</td>\n",
              "      <td>G00004</td>\n",
              "      <td>D00002</td>\n",
              "      <td>CUST0000000369</td>\n",
              "      <td>MM</td>\n",
              "      <td>OA</td>\n",
              "      <td>994100100152797</td>\n",
              "      <td>M</td>\n",
              "      <td>UM</td>\n",
              "      <td>Small Shop</td>\n",
              "      <td>Fresh</td>\n",
              "      <td>STORE00002</td>\n",
              "      <td>LS</td>\n",
              "      <td>W01</td>\n",
              "      <td>5449</td>\n",
              "    </tr>\n",
              "    <tr>\n",
              "      <th>674063</th>\n",
              "      <td>200607</td>\n",
              "      <td>2006-04-16</td>\n",
              "      <td>1</td>\n",
              "      <td>18</td>\n",
              "      <td>1</td>\n",
              "      <td>0.72</td>\n",
              "      <td>PRD0903052</td>\n",
              "      <td>CL00031</td>\n",
              "      <td>DEP00008</td>\n",
              "      <td>G00004</td>\n",
              "      <td>D00002</td>\n",
              "      <td>CUST0000000369</td>\n",
              "      <td>MM</td>\n",
              "      <td>OA</td>\n",
              "      <td>994100100152797</td>\n",
              "      <td>M</td>\n",
              "      <td>UM</td>\n",
              "      <td>Small Shop</td>\n",
              "      <td>Fresh</td>\n",
              "      <td>STORE00002</td>\n",
              "      <td>LS</td>\n",
              "      <td>W01</td>\n",
              "      <td>5449</td>\n",
              "    </tr>\n",
              "    <tr>\n",
              "      <th>743565</th>\n",
              "      <td>200607</td>\n",
              "      <td>2006-04-16</td>\n",
              "      <td>1</td>\n",
              "      <td>18</td>\n",
              "      <td>1</td>\n",
              "      <td>2.86</td>\n",
              "      <td>PRD0903953</td>\n",
              "      <td>CL00076</td>\n",
              "      <td>DEP00022</td>\n",
              "      <td>G00007</td>\n",
              "      <td>D00002</td>\n",
              "      <td>CUST0000000369</td>\n",
              "      <td>MM</td>\n",
              "      <td>OA</td>\n",
              "      <td>994100100152797</td>\n",
              "      <td>M</td>\n",
              "      <td>UM</td>\n",
              "      <td>Small Shop</td>\n",
              "      <td>Fresh</td>\n",
              "      <td>STORE00002</td>\n",
              "      <td>LS</td>\n",
              "      <td>W01</td>\n",
              "      <td>5449</td>\n",
              "    </tr>\n",
              "    <tr>\n",
              "      <th>770706</th>\n",
              "      <td>200607</td>\n",
              "      <td>2006-04-16</td>\n",
              "      <td>1</td>\n",
              "      <td>18</td>\n",
              "      <td>1</td>\n",
              "      <td>1.79</td>\n",
              "      <td>PRD0904393</td>\n",
              "      <td>CL00087</td>\n",
              "      <td>DEP00025</td>\n",
              "      <td>G00008</td>\n",
              "      <td>D00002</td>\n",
              "      <td>CUST0000000369</td>\n",
              "      <td>MM</td>\n",
              "      <td>OA</td>\n",
              "      <td>994100100152797</td>\n",
              "      <td>M</td>\n",
              "      <td>UM</td>\n",
              "      <td>Small Shop</td>\n",
              "      <td>Fresh</td>\n",
              "      <td>STORE00002</td>\n",
              "      <td>LS</td>\n",
              "      <td>W01</td>\n",
              "      <td>5449</td>\n",
              "    </tr>\n",
              "  </tbody>\n",
              "</table>\n",
              "</div>"
            ],
            "text/plain": [
              "        SHOP_WEEK  SHOP_DATE  SHOP_WEEKDAY  ...  STORE_FORMAT  STORE_REGION   AGE\n",
              "188786     200645 2007-01-06             7  ...            LS           E02  5184\n",
              "578804     200607 2006-04-16             1  ...            LS           W01  5449\n",
              "674063     200607 2006-04-16             1  ...            LS           W01  5449\n",
              "743565     200607 2006-04-16             1  ...            LS           W01  5449\n",
              "770706     200607 2006-04-16             1  ...            LS           W01  5449\n",
              "\n",
              "[5 rows x 23 columns]"
            ]
          },
          "metadata": {
            "tags": []
          },
          "execution_count": 35
        }
      ]
    },
    {
      "cell_type": "markdown",
      "metadata": {
        "id": "Fl6SuRI77Yw5"
      },
      "source": [
        "# **Feature Engineering**"
      ]
    },
    {
      "cell_type": "code",
      "metadata": {
        "colab": {
          "base_uri": "https://localhost:8080/",
          "height": 419
        },
        "id": "r_qu6MG5MipN",
        "outputId": "365d142c-2205-4e9f-d40d-9e061b4243cd"
      },
      "source": [
        "#Customer Movement\n",
        "df_movement = df_transactions[['CUST_CODE','SHOP_DATE']].copy()\n",
        "df_movement = df_movement.drop_duplicates()\n",
        "df_movement['DATE_LAG'] = df_movement.groupby(['CUST_CODE'])['SHOP_DATE'].shift(1)\n",
        "df_movement['DATE_LEAD'] = df_movement.groupby(['CUST_CODE'])['SHOP_DATE'].shift(-1)\n",
        "df_movement['DATE_DIFF'] = (df_movement['SHOP_DATE'] - df_movement['DATE_LAG']).dt.days\n",
        "\n",
        "conditions_active_3_month = [\n",
        "    (df_movement['DATE_DIFF'] <= 90),\n",
        "    (df_movement['DATE_DIFF'] > 90)\n",
        "    ]   \n",
        "values_active_3_month = ['repeat', 'reactivated']\n",
        "df_movement['MOVEMENT'] = np.select(conditions_active_3_month, values_active_3_month)\n",
        "df_movement.loc[df_movement['MOVEMENT'] == '0', 'MOVEMENT'] = 'NEW'\n",
        "df_movement_3m =  df_movement[['CUST_CODE','SHOP_DATE','MOVEMENT']]\n",
        "df_movement_3m=df_movement_3m.pivot_table(index='CUST_CODE',columns='MOVEMENT',values='SHOP_DATE',aggfunc='count',fill_value=0)\n",
        "df_movement_3m.columns.name = None    \n",
        "df_movement_3m = df_movement_3m.reset_index()  \n",
        "df_movement_3m = df_movement_3m[['CUST_CODE','reactivated','repeat']]\n",
        "df_movement_3m"
      ],
      "execution_count": 66,
      "outputs": [
        {
          "output_type": "execute_result",
          "data": {
            "text/html": [
              "<div>\n",
              "<style scoped>\n",
              "    .dataframe tbody tr th:only-of-type {\n",
              "        vertical-align: middle;\n",
              "    }\n",
              "\n",
              "    .dataframe tbody tr th {\n",
              "        vertical-align: top;\n",
              "    }\n",
              "\n",
              "    .dataframe thead th {\n",
              "        text-align: right;\n",
              "    }\n",
              "</style>\n",
              "<table border=\"1\" class=\"dataframe\">\n",
              "  <thead>\n",
              "    <tr style=\"text-align: right;\">\n",
              "      <th></th>\n",
              "      <th>CUST_CODE</th>\n",
              "      <th>reactivated</th>\n",
              "      <th>repeat</th>\n",
              "    </tr>\n",
              "  </thead>\n",
              "  <tbody>\n",
              "    <tr>\n",
              "      <th>0</th>\n",
              "      <td>CUST0000000181</td>\n",
              "      <td>0</td>\n",
              "      <td>0</td>\n",
              "    </tr>\n",
              "    <tr>\n",
              "      <th>1</th>\n",
              "      <td>CUST0000000369</td>\n",
              "      <td>0</td>\n",
              "      <td>191</td>\n",
              "    </tr>\n",
              "    <tr>\n",
              "      <th>2</th>\n",
              "      <td>CUST0000000689</td>\n",
              "      <td>1</td>\n",
              "      <td>14</td>\n",
              "    </tr>\n",
              "    <tr>\n",
              "      <th>3</th>\n",
              "      <td>CUST0000000998</td>\n",
              "      <td>0</td>\n",
              "      <td>2</td>\n",
              "    </tr>\n",
              "    <tr>\n",
              "      <th>4</th>\n",
              "      <td>CUST0000001163</td>\n",
              "      <td>1</td>\n",
              "      <td>2</td>\n",
              "    </tr>\n",
              "    <tr>\n",
              "      <th>...</th>\n",
              "      <td>...</td>\n",
              "      <td>...</td>\n",
              "      <td>...</td>\n",
              "    </tr>\n",
              "    <tr>\n",
              "      <th>6095</th>\n",
              "      <td>CUST0000999593</td>\n",
              "      <td>0</td>\n",
              "      <td>29</td>\n",
              "    </tr>\n",
              "    <tr>\n",
              "      <th>6096</th>\n",
              "      <td>CUST0000999645</td>\n",
              "      <td>3</td>\n",
              "      <td>7</td>\n",
              "    </tr>\n",
              "    <tr>\n",
              "      <th>6097</th>\n",
              "      <td>CUST0000999654</td>\n",
              "      <td>0</td>\n",
              "      <td>0</td>\n",
              "    </tr>\n",
              "    <tr>\n",
              "      <th>6098</th>\n",
              "      <td>CUST0000999935</td>\n",
              "      <td>1</td>\n",
              "      <td>18</td>\n",
              "    </tr>\n",
              "    <tr>\n",
              "      <th>6099</th>\n",
              "      <td>CUST0000999936</td>\n",
              "      <td>2</td>\n",
              "      <td>3</td>\n",
              "    </tr>\n",
              "  </tbody>\n",
              "</table>\n",
              "<p>6100 rows × 3 columns</p>\n",
              "</div>"
            ],
            "text/plain": [
              "           CUST_CODE  reactivated  repeat\n",
              "0     CUST0000000181            0       0\n",
              "1     CUST0000000369            0     191\n",
              "2     CUST0000000689            1      14\n",
              "3     CUST0000000998            0       2\n",
              "4     CUST0000001163            1       2\n",
              "...              ...          ...     ...\n",
              "6095  CUST0000999593            0      29\n",
              "6096  CUST0000999645            3       7\n",
              "6097  CUST0000999654            0       0\n",
              "6098  CUST0000999935            1      18\n",
              "6099  CUST0000999936            2       3\n",
              "\n",
              "[6100 rows x 3 columns]"
            ]
          },
          "metadata": {
            "tags": []
          },
          "execution_count": 66
        }
      ]
    },
    {
      "cell_type": "code",
      "metadata": {
        "colab": {
          "base_uri": "https://localhost:8080/",
          "height": 235
        },
        "id": "G4ZYsWI87XYy",
        "outputId": "bbfdc910-e468-4402-f747-afad9d0d3e2c"
      },
      "source": [
        "df_sgv1 = df_transactions.groupby('CUST_CODE').agg(\n",
        "        recency=('AGE', min),                       \n",
        "        frequency=('CUST_CODE', len),                  \n",
        "        monetary=('SPEND', sum), \n",
        "        ticket_size=('SPEND','mean'),\n",
        "        std_ticket_size=('SPEND','std'),        \n",
        "        length_of_stay=('AGE', lambda x: x.max() - x.min()),\n",
        "     )\n",
        "df_sgv1.head()"
      ],
      "execution_count": 67,
      "outputs": [
        {
          "output_type": "execute_result",
          "data": {
            "text/html": [
              "<div>\n",
              "<style scoped>\n",
              "    .dataframe tbody tr th:only-of-type {\n",
              "        vertical-align: middle;\n",
              "    }\n",
              "\n",
              "    .dataframe tbody tr th {\n",
              "        vertical-align: top;\n",
              "    }\n",
              "\n",
              "    .dataframe thead th {\n",
              "        text-align: right;\n",
              "    }\n",
              "</style>\n",
              "<table border=\"1\" class=\"dataframe\">\n",
              "  <thead>\n",
              "    <tr style=\"text-align: right;\">\n",
              "      <th></th>\n",
              "      <th>recency</th>\n",
              "      <th>frequency</th>\n",
              "      <th>monetary</th>\n",
              "      <th>ticket_size</th>\n",
              "      <th>std_ticket_size</th>\n",
              "      <th>length_of_stay</th>\n",
              "    </tr>\n",
              "    <tr>\n",
              "      <th>CUST_CODE</th>\n",
              "      <th></th>\n",
              "      <th></th>\n",
              "      <th></th>\n",
              "      <th></th>\n",
              "      <th></th>\n",
              "      <th></th>\n",
              "    </tr>\n",
              "  </thead>\n",
              "  <tbody>\n",
              "    <tr>\n",
              "      <th>CUST0000000181</th>\n",
              "      <td>5184</td>\n",
              "      <td>1</td>\n",
              "      <td>2.44</td>\n",
              "      <td>2.440000</td>\n",
              "      <td>NaN</td>\n",
              "      <td>0</td>\n",
              "    </tr>\n",
              "    <tr>\n",
              "      <th>CUST0000000369</th>\n",
              "      <td>4638</td>\n",
              "      <td>699</td>\n",
              "      <td>959.33</td>\n",
              "      <td>1.372432</td>\n",
              "      <td>1.790510</td>\n",
              "      <td>811</td>\n",
              "    </tr>\n",
              "    <tr>\n",
              "      <th>CUST0000000689</th>\n",
              "      <td>4650</td>\n",
              "      <td>185</td>\n",
              "      <td>328.57</td>\n",
              "      <td>1.776054</td>\n",
              "      <td>1.797741</td>\n",
              "      <td>337</td>\n",
              "    </tr>\n",
              "    <tr>\n",
              "      <th>CUST0000000998</th>\n",
              "      <td>5367</td>\n",
              "      <td>4</td>\n",
              "      <td>5.95</td>\n",
              "      <td>1.487500</td>\n",
              "      <td>0.695000</td>\n",
              "      <td>64</td>\n",
              "    </tr>\n",
              "    <tr>\n",
              "      <th>CUST0000001163</th>\n",
              "      <td>4651</td>\n",
              "      <td>25</td>\n",
              "      <td>39.74</td>\n",
              "      <td>1.589600</td>\n",
              "      <td>1.870184</td>\n",
              "      <td>609</td>\n",
              "    </tr>\n",
              "  </tbody>\n",
              "</table>\n",
              "</div>"
            ],
            "text/plain": [
              "                recency  frequency  ...  std_ticket_size  length_of_stay\n",
              "CUST_CODE                           ...                                 \n",
              "CUST0000000181     5184          1  ...              NaN               0\n",
              "CUST0000000369     4638        699  ...         1.790510             811\n",
              "CUST0000000689     4650        185  ...         1.797741             337\n",
              "CUST0000000998     5367          4  ...         0.695000              64\n",
              "CUST0000001163     4651         25  ...         1.870184             609\n",
              "\n",
              "[5 rows x 6 columns]"
            ]
          },
          "metadata": {
            "tags": []
          },
          "execution_count": 67
        }
      ]
    },
    {
      "cell_type": "code",
      "metadata": {
        "colab": {
          "base_uri": "https://localhost:8080/",
          "height": 450
        },
        "id": "CyXPg7uVYybw",
        "outputId": "bcafde12-ce9b-49c2-cecb-10cae72443c9"
      },
      "source": [
        "df_sgv2 = df_movement_3m.set_index('CUST_CODE').join(df_sgv1)\n",
        "df_sgv2 = df_sgv2.fillna(0)\n",
        "df_sgv2"
      ],
      "execution_count": 69,
      "outputs": [
        {
          "output_type": "execute_result",
          "data": {
            "text/html": [
              "<div>\n",
              "<style scoped>\n",
              "    .dataframe tbody tr th:only-of-type {\n",
              "        vertical-align: middle;\n",
              "    }\n",
              "\n",
              "    .dataframe tbody tr th {\n",
              "        vertical-align: top;\n",
              "    }\n",
              "\n",
              "    .dataframe thead th {\n",
              "        text-align: right;\n",
              "    }\n",
              "</style>\n",
              "<table border=\"1\" class=\"dataframe\">\n",
              "  <thead>\n",
              "    <tr style=\"text-align: right;\">\n",
              "      <th></th>\n",
              "      <th>reactivated</th>\n",
              "      <th>repeat</th>\n",
              "      <th>recency</th>\n",
              "      <th>frequency</th>\n",
              "      <th>monetary</th>\n",
              "      <th>ticket_size</th>\n",
              "      <th>std_ticket_size</th>\n",
              "      <th>length_of_stay</th>\n",
              "    </tr>\n",
              "    <tr>\n",
              "      <th>CUST_CODE</th>\n",
              "      <th></th>\n",
              "      <th></th>\n",
              "      <th></th>\n",
              "      <th></th>\n",
              "      <th></th>\n",
              "      <th></th>\n",
              "      <th></th>\n",
              "      <th></th>\n",
              "    </tr>\n",
              "  </thead>\n",
              "  <tbody>\n",
              "    <tr>\n",
              "      <th>CUST0000000181</th>\n",
              "      <td>0</td>\n",
              "      <td>0</td>\n",
              "      <td>5184</td>\n",
              "      <td>1</td>\n",
              "      <td>2.44</td>\n",
              "      <td>2.440000</td>\n",
              "      <td>0.000000</td>\n",
              "      <td>0</td>\n",
              "    </tr>\n",
              "    <tr>\n",
              "      <th>CUST0000000369</th>\n",
              "      <td>0</td>\n",
              "      <td>191</td>\n",
              "      <td>4638</td>\n",
              "      <td>699</td>\n",
              "      <td>959.33</td>\n",
              "      <td>1.372432</td>\n",
              "      <td>1.790510</td>\n",
              "      <td>811</td>\n",
              "    </tr>\n",
              "    <tr>\n",
              "      <th>CUST0000000689</th>\n",
              "      <td>1</td>\n",
              "      <td>14</td>\n",
              "      <td>4650</td>\n",
              "      <td>185</td>\n",
              "      <td>328.57</td>\n",
              "      <td>1.776054</td>\n",
              "      <td>1.797741</td>\n",
              "      <td>337</td>\n",
              "    </tr>\n",
              "    <tr>\n",
              "      <th>CUST0000000998</th>\n",
              "      <td>0</td>\n",
              "      <td>2</td>\n",
              "      <td>5367</td>\n",
              "      <td>4</td>\n",
              "      <td>5.95</td>\n",
              "      <td>1.487500</td>\n",
              "      <td>0.695000</td>\n",
              "      <td>64</td>\n",
              "    </tr>\n",
              "    <tr>\n",
              "      <th>CUST0000001163</th>\n",
              "      <td>1</td>\n",
              "      <td>2</td>\n",
              "      <td>4651</td>\n",
              "      <td>25</td>\n",
              "      <td>39.74</td>\n",
              "      <td>1.589600</td>\n",
              "      <td>1.870184</td>\n",
              "      <td>609</td>\n",
              "    </tr>\n",
              "    <tr>\n",
              "      <th>...</th>\n",
              "      <td>...</td>\n",
              "      <td>...</td>\n",
              "      <td>...</td>\n",
              "      <td>...</td>\n",
              "      <td>...</td>\n",
              "      <td>...</td>\n",
              "      <td>...</td>\n",
              "      <td>...</td>\n",
              "    </tr>\n",
              "    <tr>\n",
              "      <th>CUST0000999593</th>\n",
              "      <td>0</td>\n",
              "      <td>29</td>\n",
              "      <td>4732</td>\n",
              "      <td>297</td>\n",
              "      <td>453.58</td>\n",
              "      <td>1.527205</td>\n",
              "      <td>1.516976</td>\n",
              "      <td>697</td>\n",
              "    </tr>\n",
              "    <tr>\n",
              "      <th>CUST0000999645</th>\n",
              "      <td>3</td>\n",
              "      <td>7</td>\n",
              "      <td>4696</td>\n",
              "      <td>60</td>\n",
              "      <td>105.11</td>\n",
              "      <td>1.751833</td>\n",
              "      <td>1.605137</td>\n",
              "      <td>739</td>\n",
              "    </tr>\n",
              "    <tr>\n",
              "      <th>CUST0000999654</th>\n",
              "      <td>0</td>\n",
              "      <td>0</td>\n",
              "      <td>5379</td>\n",
              "      <td>4</td>\n",
              "      <td>5.86</td>\n",
              "      <td>1.465000</td>\n",
              "      <td>1.684132</td>\n",
              "      <td>0</td>\n",
              "    </tr>\n",
              "    <tr>\n",
              "      <th>CUST0000999935</th>\n",
              "      <td>1</td>\n",
              "      <td>18</td>\n",
              "      <td>4668</td>\n",
              "      <td>236</td>\n",
              "      <td>444.17</td>\n",
              "      <td>1.882076</td>\n",
              "      <td>1.785459</td>\n",
              "      <td>554</td>\n",
              "    </tr>\n",
              "    <tr>\n",
              "      <th>CUST0000999936</th>\n",
              "      <td>2</td>\n",
              "      <td>3</td>\n",
              "      <td>4717</td>\n",
              "      <td>15</td>\n",
              "      <td>17.67</td>\n",
              "      <td>1.178000</td>\n",
              "      <td>0.859054</td>\n",
              "      <td>623</td>\n",
              "    </tr>\n",
              "  </tbody>\n",
              "</table>\n",
              "<p>6100 rows × 8 columns</p>\n",
              "</div>"
            ],
            "text/plain": [
              "                reactivated  repeat  ...  std_ticket_size  length_of_stay\n",
              "CUST_CODE                            ...                                 \n",
              "CUST0000000181            0       0  ...         0.000000               0\n",
              "CUST0000000369            0     191  ...         1.790510             811\n",
              "CUST0000000689            1      14  ...         1.797741             337\n",
              "CUST0000000998            0       2  ...         0.695000              64\n",
              "CUST0000001163            1       2  ...         1.870184             609\n",
              "...                     ...     ...  ...              ...             ...\n",
              "CUST0000999593            0      29  ...         1.516976             697\n",
              "CUST0000999645            3       7  ...         1.605137             739\n",
              "CUST0000999654            0       0  ...         1.684132               0\n",
              "CUST0000999935            1      18  ...         1.785459             554\n",
              "CUST0000999936            2       3  ...         0.859054             623\n",
              "\n",
              "[6100 rows x 8 columns]"
            ]
          },
          "metadata": {
            "tags": []
          },
          "execution_count": 69
        }
      ]
    },
    {
      "cell_type": "markdown",
      "metadata": {
        "id": "uEsrMFB2bMb5"
      },
      "source": [
        "# **Explore distribution of features**"
      ]
    },
    {
      "cell_type": "code",
      "metadata": {
        "id": "orsnE8CXY2fb",
        "colab": {
          "base_uri": "https://localhost:8080/",
          "height": 1000
        },
        "outputId": "fc32dfeb-6e8d-4cda-a467-784aa2c2cc34"
      },
      "source": [
        "for i, col in enumerate(df_sgv2.columns[1:]):\n",
        "    plt.figure(i)\n",
        "    sns.distplot(df_sgv2[col])\n",
        "    \n",
        "plt.show()"
      ],
      "execution_count": 71,
      "outputs": [
        {
          "output_type": "stream",
          "text": [
            "/usr/local/lib/python3.7/dist-packages/seaborn/distributions.py:2557: FutureWarning: `distplot` is a deprecated function and will be removed in a future version. Please adapt your code to use either `displot` (a figure-level function with similar flexibility) or `histplot` (an axes-level function for histograms).\n",
            "  warnings.warn(msg, FutureWarning)\n",
            "/usr/local/lib/python3.7/dist-packages/seaborn/distributions.py:2557: FutureWarning: `distplot` is a deprecated function and will be removed in a future version. Please adapt your code to use either `displot` (a figure-level function with similar flexibility) or `histplot` (an axes-level function for histograms).\n",
            "  warnings.warn(msg, FutureWarning)\n",
            "/usr/local/lib/python3.7/dist-packages/seaborn/distributions.py:2557: FutureWarning: `distplot` is a deprecated function and will be removed in a future version. Please adapt your code to use either `displot` (a figure-level function with similar flexibility) or `histplot` (an axes-level function for histograms).\n",
            "  warnings.warn(msg, FutureWarning)\n",
            "/usr/local/lib/python3.7/dist-packages/seaborn/distributions.py:2557: FutureWarning: `distplot` is a deprecated function and will be removed in a future version. Please adapt your code to use either `displot` (a figure-level function with similar flexibility) or `histplot` (an axes-level function for histograms).\n",
            "  warnings.warn(msg, FutureWarning)\n",
            "/usr/local/lib/python3.7/dist-packages/seaborn/distributions.py:2557: FutureWarning: `distplot` is a deprecated function and will be removed in a future version. Please adapt your code to use either `displot` (a figure-level function with similar flexibility) or `histplot` (an axes-level function for histograms).\n",
            "  warnings.warn(msg, FutureWarning)\n",
            "/usr/local/lib/python3.7/dist-packages/seaborn/distributions.py:2557: FutureWarning: `distplot` is a deprecated function and will be removed in a future version. Please adapt your code to use either `displot` (a figure-level function with similar flexibility) or `histplot` (an axes-level function for histograms).\n",
            "  warnings.warn(msg, FutureWarning)\n",
            "/usr/local/lib/python3.7/dist-packages/seaborn/distributions.py:2557: FutureWarning: `distplot` is a deprecated function and will be removed in a future version. Please adapt your code to use either `displot` (a figure-level function with similar flexibility) or `histplot` (an axes-level function for histograms).\n",
            "  warnings.warn(msg, FutureWarning)\n"
          ],
          "name": "stderr"
        },
        {
          "output_type": "display_data",
          "data": {
            "image/png": "[encoded data removed]",
            "text/plain": [
              "<Figure size 432x288 with 1 Axes>"
            ]
          },
          "metadata": {
            "tags": [],
            "needs_background": "light"
          }
        },
        {
          "output_type": "display_data",
          "data": {
            "image/png": "[encoded data removed]",
            "text/plain": [
              "<Figure size 432x288 with 1 Axes>"
            ]
          },
          "metadata": {
            "tags": [],
            "needs_background": "light"
          }
        },
        {
          "output_type": "display_data",
          "data": {
            "image/png": "[encoded data removed]",
            "text/plain": [
              "<Figure size 432x288 with 1 Axes>"
            ]
          },
          "metadata": {
            "tags": [],
            "needs_background": "light"
          }
        },
        {
          "output_type": "display_data",
          "data": {
            "image/png": "[encoded data removed]",
            "text/plain": [
              "<Figure size 432x288 with 1 Axes>"
            ]
          },
          "metadata": {
            "tags": [],
            "needs_background": "light"
          }
        },
        {
          "output_type": "display_data",
          "data": {
            "image/png": "[encoded data removed]",
            "text/plain": [
              "<Figure size 432x288 with 1 Axes>"
            ]
          },
          "metadata": {
            "tags": [],
            "needs_background": "light"
          }
        },
        {
          "output_type": "display_data",
          "data": {
            "image/png": "[encoded data removed]",
            "text/plain": [
              "<Figure size 432x288 with 1 Axes>"
            ]
          },
          "metadata": {
            "tags": [],
            "needs_background": "light"
          }
        },
        {
          "output_type": "display_data",
          "data": {
            "image/png": "[encoded data removed]",
            "text/plain": [
              "<Figure size 432x288 with 1 Axes>"
            ]
          },
          "metadata": {
            "tags": [],
            "needs_background": "light"
          }
        }
      ]
    },
    {
      "cell_type": "markdown",
      "metadata": {
        "id": "tjJHPpvAcBLR"
      },
      "source": [
        "# **Standardized Scales**"
      ]
    },
    {
      "cell_type": "code",
      "metadata": {
        "id": "gP4C36usY5Kx"
      },
      "source": [
        "df_std = pd.DataFrame(StandardScaler().fit_transform(df_sgv2.iloc[:,1:]))"
      ],
      "execution_count": 95,
      "outputs": []
    },
    {
      "cell_type": "code",
      "metadata": {
        "id": "8Q2wvP0vY7Lm"
      },
      "source": [
        "wcss = []\n",
        "silet = []\n",
        "num_k = []\n",
        "i=1\n",
        "for k in range(2, 15):\n",
        "    kmeans = KMeans(n_clusters=k) \n",
        "    kmeans = kmeans.fit(df_std)\n",
        "    num_k.append(k)\n",
        "    wcss.append(kmeans.inertia_)\n",
        "    labels = kmeans.labels_\n",
        "    silet.append(silhouette_score(df_std,kmeans.labels_,metric='euclidean'))\n",
        "    i=i+1"
      ],
      "execution_count": 96,
      "outputs": []
    },
    {
      "cell_type": "code",
      "metadata": {
        "id": "BONltfHJdO6B",
        "outputId": "dbb07b68-05d6-4013-9366-3a0ff245b7e6",
        "colab": {
          "base_uri": "https://localhost:8080/",
          "height": 350
        }
      },
      "source": [
        "fig, axes = plt.subplots(1,2, figsize=(15,5))\n",
        "axes[0].plot(num_k, wcss, 'bo-')\n",
        "axes[0].set_title('Elbow Method compute by WCSS')\n",
        "axes[0].set_xlabel(\"Number of clusters\")\n",
        "axes[0].set_ylabel(\"WCSS\")\n",
        "\n",
        "axes[1].plot(num_k, silet, 'bo-' ,color = 'red')\n",
        "axes[1].set_title('Silhouette Method by Euclidean Distance')\n",
        "axes[1].set_xlabel(\"Number of clusters\")\n",
        "axes[1].set_ylabel(\"Silhouette Score\")\n",
        "\n",
        "plt.show()"
      ],
      "execution_count": 103,
      "outputs": [
        {
          "output_type": "display_data",
          "data": {
            "image/png": "[encoded data removed]",
            "text/plain": [
              "<Figure size 1080x360 with 2 Axes>"
            ]
          },
          "metadata": {
            "tags": [],
            "needs_background": "light"
          }
        }
      ]
    },
    {
      "cell_type": "code",
      "metadata": {
        "id": "7iGe7l8bmLtM"
      },
      "source": [
        "df_sgv2 = df_sgv2.reset_index()"
      ],
      "execution_count": 105,
      "outputs": []
    },
    {
      "cell_type": "code",
      "metadata": {
        "id": "hmgpI2DcY9-D"
      },
      "source": [
        "cluster = KMeans(n_clusters=6)\n",
        "df_sgv2['cluster'] = cluster.fit_predict(df_std)"
      ],
      "execution_count": 106,
      "outputs": []
    },
    {
      "cell_type": "code",
      "metadata": {
        "id": "s2oOjWtxm-9L",
        "outputId": "dcf59511-0224-4271-d239-62db141695ea",
        "colab": {
          "base_uri": "https://localhost:8080/",
          "height": 204
        }
      },
      "source": [
        "df_sgv2.head()"
      ],
      "execution_count": 108,
      "outputs": [
        {
          "output_type": "execute_result",
          "data": {
            "text/html": [
              "<div>\n",
              "<style scoped>\n",
              "    .dataframe tbody tr th:only-of-type {\n",
              "        vertical-align: middle;\n",
              "    }\n",
              "\n",
              "    .dataframe tbody tr th {\n",
              "        vertical-align: top;\n",
              "    }\n",
              "\n",
              "    .dataframe thead th {\n",
              "        text-align: right;\n",
              "    }\n",
              "</style>\n",
              "<table border=\"1\" class=\"dataframe\">\n",
              "  <thead>\n",
              "    <tr style=\"text-align: right;\">\n",
              "      <th></th>\n",
              "      <th>CUST_CODE</th>\n",
              "      <th>reactivated</th>\n",
              "      <th>repeat</th>\n",
              "      <th>recency</th>\n",
              "      <th>frequency</th>\n",
              "      <th>monetary</th>\n",
              "      <th>ticket_size</th>\n",
              "      <th>std_ticket_size</th>\n",
              "      <th>length_of_stay</th>\n",
              "      <th>cluster</th>\n",
              "    </tr>\n",
              "  </thead>\n",
              "  <tbody>\n",
              "    <tr>\n",
              "      <th>0</th>\n",
              "      <td>CUST0000000181</td>\n",
              "      <td>0</td>\n",
              "      <td>0</td>\n",
              "      <td>5184</td>\n",
              "      <td>1</td>\n",
              "      <td>2.44</td>\n",
              "      <td>2.440000</td>\n",
              "      <td>0.000000</td>\n",
              "      <td>0</td>\n",
              "      <td>0</td>\n",
              "    </tr>\n",
              "    <tr>\n",
              "      <th>1</th>\n",
              "      <td>CUST0000000369</td>\n",
              "      <td>0</td>\n",
              "      <td>191</td>\n",
              "      <td>4638</td>\n",
              "      <td>699</td>\n",
              "      <td>959.33</td>\n",
              "      <td>1.372432</td>\n",
              "      <td>1.790510</td>\n",
              "      <td>811</td>\n",
              "      <td>3</td>\n",
              "    </tr>\n",
              "    <tr>\n",
              "      <th>2</th>\n",
              "      <td>CUST0000000689</td>\n",
              "      <td>1</td>\n",
              "      <td>14</td>\n",
              "      <td>4650</td>\n",
              "      <td>185</td>\n",
              "      <td>328.57</td>\n",
              "      <td>1.776054</td>\n",
              "      <td>1.797741</td>\n",
              "      <td>337</td>\n",
              "      <td>1</td>\n",
              "    </tr>\n",
              "    <tr>\n",
              "      <th>3</th>\n",
              "      <td>CUST0000000998</td>\n",
              "      <td>0</td>\n",
              "      <td>2</td>\n",
              "      <td>5367</td>\n",
              "      <td>4</td>\n",
              "      <td>5.95</td>\n",
              "      <td>1.487500</td>\n",
              "      <td>0.695000</td>\n",
              "      <td>64</td>\n",
              "      <td>0</td>\n",
              "    </tr>\n",
              "    <tr>\n",
              "      <th>4</th>\n",
              "      <td>CUST0000001163</td>\n",
              "      <td>1</td>\n",
              "      <td>2</td>\n",
              "      <td>4651</td>\n",
              "      <td>25</td>\n",
              "      <td>39.74</td>\n",
              "      <td>1.589600</td>\n",
              "      <td>1.870184</td>\n",
              "      <td>609</td>\n",
              "      <td>1</td>\n",
              "    </tr>\n",
              "  </tbody>\n",
              "</table>\n",
              "</div>"
            ],
            "text/plain": [
              "        CUST_CODE  reactivated  ...  length_of_stay  cluster\n",
              "0  CUST0000000181            0  ...               0        0\n",
              "1  CUST0000000369            0  ...             811        3\n",
              "2  CUST0000000689            1  ...             337        1\n",
              "3  CUST0000000998            0  ...              64        0\n",
              "4  CUST0000001163            1  ...             609        1\n",
              "\n",
              "[5 rows x 10 columns]"
            ]
          },
          "metadata": {
            "tags": []
          },
          "execution_count": 108
        }
      ]
    },
    {
      "cell_type": "code",
      "metadata": {
        "id": "iGggLgcMm367",
        "outputId": "c66a8fa3-e602-4609-ab19-062adc114cca",
        "colab": {
          "base_uri": "https://localhost:8080/",
          "height": 317
        }
      },
      "source": [
        "X=df_sgv2.iloc[:,1:-1]\n",
        "y=df_sgv2.iloc[:,-1]\n",
        "clf=RandomForestClassifier(criterion='entropy').fit(X,y)\n",
        "plt.figure(figsize=(30,10))\n",
        "df_sgv2_importance = pd.DataFrame({'Feature':X.columns,'Importance':clf.feature_importances_}).set_index('Feature')\n",
        "df_sgv2_importance.sort_values('Importance').plot.barh(title='Purchase of Customers - Feature Importance')"
      ],
      "execution_count": 113,
      "outputs": [
        {
          "output_type": "execute_result",
          "data": {
            "text/plain": [
              "<matplotlib.axes._subplots.AxesSubplot at 0x7f786c6b8690>"
            ]
          },
          "metadata": {
            "tags": []
          },
          "execution_count": 113
        },
        {
          "output_type": "display_data",
          "data": {
            "text/plain": [
              "<Figure size 2160x720 with 0 Axes>"
            ]
          },
          "metadata": {
            "tags": []
          }
        },
        {
          "output_type": "display_data",
          "data": {
            "image/png": "[encoded data removed]",
            "text/plain": [
              "<Figure size 432x288 with 1 Axes>"
            ]
          },
          "metadata": {
            "tags": [],
            "needs_background": "light"
          }
        }
      ]
    },
    {
      "cell_type": "code",
      "metadata": {
        "id": "dHLsrgdbY_g3",
        "colab": {
          "base_uri": "https://localhost:8080/",
          "height": 235
        },
        "outputId": "14d90a7e-4210-4ab2-bbb7-f947871f76f6"
      },
      "source": [
        "dfCluster = df_sgv2.groupby('cluster', as_index=False).mean()\n",
        "dfCluster['NO_CUST'] = df_sgv2[['cluster','CUST_CODE']].groupby('cluster').count()\n",
        "\n",
        "dfCluster"
      ],
      "execution_count": 107,
      "outputs": [
        {
          "output_type": "execute_result",
          "data": {
            "text/html": [
              "<div>\n",
              "<style scoped>\n",
              "    .dataframe tbody tr th:only-of-type {\n",
              "        vertical-align: middle;\n",
              "    }\n",
              "\n",
              "    .dataframe tbody tr th {\n",
              "        vertical-align: top;\n",
              "    }\n",
              "\n",
              "    .dataframe thead th {\n",
              "        text-align: right;\n",
              "    }\n",
              "</style>\n",
              "<table border=\"1\" class=\"dataframe\">\n",
              "  <thead>\n",
              "    <tr style=\"text-align: right;\">\n",
              "      <th></th>\n",
              "      <th>cluster</th>\n",
              "      <th>reactivated</th>\n",
              "      <th>repeat</th>\n",
              "      <th>recency</th>\n",
              "      <th>frequency</th>\n",
              "      <th>monetary</th>\n",
              "      <th>ticket_size</th>\n",
              "      <th>std_ticket_size</th>\n",
              "      <th>length_of_stay</th>\n",
              "      <th>NO_CUST</th>\n",
              "    </tr>\n",
              "  </thead>\n",
              "  <tbody>\n",
              "    <tr>\n",
              "      <th>0</th>\n",
              "      <td>0</td>\n",
              "      <td>0.153714</td>\n",
              "      <td>0.502225</td>\n",
              "      <td>5077.417323</td>\n",
              "      <td>7.749059</td>\n",
              "      <td>13.725231</td>\n",
              "      <td>1.642196</td>\n",
              "      <td>0.905440</td>\n",
              "      <td>40.736049</td>\n",
              "      <td>2921</td>\n",
              "    </tr>\n",
              "    <tr>\n",
              "      <th>1</th>\n",
              "      <td>1</td>\n",
              "      <td>1.562677</td>\n",
              "      <td>10.954564</td>\n",
              "      <td>4698.999594</td>\n",
              "      <td>74.676268</td>\n",
              "      <td>139.461156</td>\n",
              "      <td>1.771551</td>\n",
              "      <td>1.687543</td>\n",
              "      <td>572.851521</td>\n",
              "      <td>2465</td>\n",
              "    </tr>\n",
              "    <tr>\n",
              "      <th>2</th>\n",
              "      <td>2</td>\n",
              "      <td>0.037313</td>\n",
              "      <td>210.425373</td>\n",
              "      <td>4640.873134</td>\n",
              "      <td>2021.880597</td>\n",
              "      <td>3855.487463</td>\n",
              "      <td>1.927381</td>\n",
              "      <td>2.561817</td>\n",
              "      <td>808.768657</td>\n",
              "      <td>134</td>\n",
              "    </tr>\n",
              "    <tr>\n",
              "      <th>3</th>\n",
              "      <td>3</td>\n",
              "      <td>0.183908</td>\n",
              "      <td>102.632184</td>\n",
              "      <td>4645.041379</td>\n",
              "      <td>739.675862</td>\n",
              "      <td>1341.149540</td>\n",
              "      <td>1.851654</td>\n",
              "      <td>2.201586</td>\n",
              "      <td>774.020690</td>\n",
              "      <td>435</td>\n",
              "    </tr>\n",
              "    <tr>\n",
              "      <th>4</th>\n",
              "      <td>4</td>\n",
              "      <td>0.818182</td>\n",
              "      <td>4.734848</td>\n",
              "      <td>4895.037879</td>\n",
              "      <td>26.265152</td>\n",
              "      <td>122.519545</td>\n",
              "      <td>7.116034</td>\n",
              "      <td>10.292317</td>\n",
              "      <td>295.310606</td>\n",
              "      <td>132</td>\n",
              "    </tr>\n",
              "    <tr>\n",
              "      <th>5</th>\n",
              "      <td>5</td>\n",
              "      <td>0.230769</td>\n",
              "      <td>0.000000</td>\n",
              "      <td>5049.384615</td>\n",
              "      <td>1.692308</td>\n",
              "      <td>58.660769</td>\n",
              "      <td>33.845385</td>\n",
              "      <td>2.801062</td>\n",
              "      <td>125.769231</td>\n",
              "      <td>13</td>\n",
              "    </tr>\n",
              "  </tbody>\n",
              "</table>\n",
              "</div>"
            ],
            "text/plain": [
              "   cluster  reactivated      repeat  ...  std_ticket_size  length_of_stay  NO_CUST\n",
              "0        0     0.153714    0.502225  ...         0.905440       40.736049     2921\n",
              "1        1     1.562677   10.954564  ...         1.687543      572.851521     2465\n",
              "2        2     0.037313  210.425373  ...         2.561817      808.768657      134\n",
              "3        3     0.183908  102.632184  ...         2.201586      774.020690      435\n",
              "4        4     0.818182    4.734848  ...        10.292317      295.310606      132\n",
              "5        5     0.230769    0.000000  ...         2.801062      125.769231       13\n",
              "\n",
              "[6 rows x 10 columns]"
            ]
          },
          "metadata": {
            "tags": []
          },
          "execution_count": 107
        }
      ]
    },
    {
      "cell_type": "code",
      "metadata": {
        "id": "-JD5wrZxZF4d",
        "colab": {
          "base_uri": "https://localhost:8080/",
          "height": 378
        },
        "outputId": "01666a60-ea9b-4a0e-9d10-5e1366d6f177"
      },
      "source": [
        "import matplotlib.pyplot as plt\n",
        "import seaborn as sns\n",
        "\n",
        "plt.figure()\n",
        "fig, ax = plt.subplots()\n",
        "ax.scatter(dfCluster['TOTAL_SALES'], dfCluster['TOTAL_VISIT'], s=dfCluster['NO_CUST'], alpha = 0.5)\n",
        "ax.set_xlabel(\"TOTAL_SALES\")\n",
        "ax.set_ylabel(\"TOTAL_VISIT\")\n",
        "\n",
        "for i, txt in enumerate(dfCluster['cluster']):\n",
        "  ax.annotate(txt, (dfCluster['TOTAL_SALES'][i], dfCluster[\"TOTAL_VISIT\"][i]), horizontalalignment='middle', verticalalignment='middle')\n",
        "\n",
        "plt.show()"
      ],
      "execution_count": null,
      "outputs": [
        {
          "output_type": "display_data",
          "data": {
            "text/plain": [
              "<matplotlib.figure.Figure at 0x7f23c137cd30>"
            ]
          },
          "metadata": {
            "tags": []
          }
        },
        {
          "output_type": "display_data",
          "data": {
            "image/png": "[encoded data removed]",
            "text/plain": [
              "<matplotlib.figure.Figure at 0x7f23c137ccf8>"
            ]
          },
          "metadata": {
            "tags": []
          }
        }
      ]
    },
    {
      "cell_type": "code",
      "metadata": {
        "id": "FiBOcQtCZunp",
        "colab": {
          "base_uri": "https://localhost:8080/",
          "height": 759
        },
        "outputId": "c343bde0-9b96-48ee-aa17-6d4ebe71d53f"
      },
      "source": [
        "for i, col in enumerate(df.columns[1:-1]):\n",
        "    sns.boxplot(x=\"cluster\", y =col, data=df)\n",
        "    plt.show()"
      ],
      "execution_count": null,
      "outputs": [
        {
          "output_type": "stream",
          "text": [
            "/usr/local/lib/python3.6/dist-packages/seaborn/categorical.py:454: FutureWarning: remove_na is deprecated and is a private function. Do not use.\n",
            "  box_data = remove_na(group_data)\n"
          ],
          "name": "stderr"
        },
        {
          "output_type": "display_data",
          "data": {
            "image/png": "[encoded data removed]",
            "text/plain": [
              "<matplotlib.figure.Figure at 0x7f23c1374ef0>"
            ]
          },
          "metadata": {
            "tags": []
          }
        },
        {
          "output_type": "display_data",
          "data": {
            "image/png": "[encoded data removed]",
            "text/plain": [
              "<matplotlib.figure.Figure at 0x7f23c131b630>"
            ]
          },
          "metadata": {
            "tags": []
          }
        }
      ]
    },
    {
      "cell_type": "code",
      "metadata": {
        "id": "vSRTVL_5Zx5p",
        "colab": {
          "base_uri": "https://localhost:8080/",
          "height": 120
        },
        "outputId": "8e641156-099c-4fb2-82aa-7f332102c763"
      },
      "source": [
        "from sklearn.ensemble import RandomForestClassifier\n",
        "\n",
        "predictors = df.iloc[:,1:-1]\n",
        "targets = df.iloc[:,-1:]\n",
        "\n",
        "scaler = StandardScaler()\n",
        "predictors_scaled = scaler.fit_transform(predictors)\n",
        "\n",
        "classifier = RandomForestClassifier(n_estimators = 10, criterion = 'entropy', random_state = 42)\n",
        "classifier.fit(predictors_scaled, targets.values.ravel())\n"
      ],
      "execution_count": null,
      "outputs": [
        {
          "output_type": "execute_result",
          "data": {
            "text/plain": [
              "RandomForestClassifier(bootstrap=True, class_weight=None, criterion='entropy',\n",
              "            max_depth=None, max_features='auto', max_leaf_nodes=None,\n",
              "            min_impurity_decrease=0.0, min_impurity_split=None,\n",
              "            min_samples_leaf=1, min_samples_split=2,\n",
              "            min_weight_fraction_leaf=0.0, n_estimators=10, n_jobs=1,\n",
              "            oob_score=False, random_state=42, verbose=0, warm_start=False)"
            ]
          },
          "metadata": {
            "tags": []
          },
          "execution_count": 18
        }
      ]
    },
    {
      "cell_type": "code",
      "metadata": {
        "id": "VajR1gA4Zzzx",
        "colab": {
          "base_uri": "https://localhost:8080/",
          "height": 51
        },
        "outputId": "a44139a3-e4e1-4802-a991-4ca3aa19b4d6"
      },
      "source": [
        "importances = list(classifier.feature_importances_)\n",
        "\n",
        "feature_list = list(predictors.columns)\n",
        "feature_importances = [(feature, round(importance, 2)) for feature, importance in zip(feature_list, importances)]\n",
        "feature_importances = sorted(feature_importances, key = lambda x: x[1], reverse = True)\n",
        "[print('Variable: {:20} Importance: {}'.format(*pair)) for pair in feature_importances];"
      ],
      "execution_count": null,
      "outputs": [
        {
          "output_type": "stream",
          "text": [
            "Variable: TOTAL_SALES          Importance: 0.55\n",
            "Variable: TOTAL_VISIT          Importance: 0.45\n"
          ],
          "name": "stdout"
        }
      ]
    }
  ]
}